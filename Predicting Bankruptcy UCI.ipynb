{
 "cells": [
  {
   "cell_type": "markdown",
   "metadata": {},
   "source": [
    "### Data Set Information: https://archive.ics.uci.edu/ml/datasets/Polish+companies+bankruptcy+data\n",
    "\n",
    "\n",
    "__Abstract:__ The dataset is about bankruptcy prediction of Polish companies.The bankrupt companies were analyzed in the period 2000-2012, while the still operating companies were evaluated from 2007 to 2013.\n",
    "**The dataset is about bankruptcy prediction of Polish companies**\n",
    "\n",
    "The data was collected from Emerging Markets Information Service (EMIS), which is a database containing information on emerging markets around the world. The bankrupt companies were analyzed in the period 2000-2012, while the still operating companies were evaluated from 2007 to 2013.\n",
    "\n",
    "Basing on the collected data five classification cases were distinguished, that depends on the forecasting period:\n",
    "\n",
    "- 1stYear: the data contains financial rates from 1st year of the forecasting period and corresponding class label that indicates bankruptcy status after 5 years. The data contains 7027 instances (financial statements), 271 represents bankrupted companies, 6756 firms that did not bankrupt in the forecasting period.\n",
    "\n",
    "- 2ndYear: the data contains financial rates from 2nd year of the forecasting period and corresponding class label that indicates bankruptcy status after 4 years. The data contains 10173 instances (financial statements), 400 represents bankrupted companies, 9773 firms that did not bankrupt in the forecasting period.\n",
    "\n",
    "- 3rdYear: the data contains financial rates from 3rd year of the forecasting period and corresponding class label that indicates bankruptcy status after 3 years. The data contains 10503 instances (financial statements), 495 represents bankrupted companies, 10008 firms that did not bankrupt in the forecasting period.\n",
    "\n",
    "- 4thYear: the data contains financial rates from 4th year of the forecasting period and corresponding class label that indicates bankruptcy status after 2 years. The data contains 9792 instances (financial statements), 515 represents bankrupted companies, 9277 firms that did not bankrupt in the forecasting period.\n",
    "\n",
    "- 5thYear: the data contains financial rates from 5th year of the forecasting period and corresponding class label that indicates bankruptcy status after 1 year. The data contains 5910 instances (financial statements), 410 represents bankrupted companies, 5500 firms that did not bankrupt in the forecasting period."
   ]
  },
  {
   "cell_type": "markdown",
   "metadata": {},
   "source": [
    "### Features description\n",
    "\n",
    "- attr1:\tnet profit / total assets\n",
    "- attr2:\ttotal liabilities / total assets \n",
    "- attr3:\tworking capital / total assets \n",
    "- attr4:\tcurrent assets / short-term liabilities \n",
    "- attr5:\t[(cash + short-term securities + receivables - short-term liabilities) / (operating expenses - depreciation)] * 365 \n",
    "- attr6:\tretained earnings / total assets \n",
    "- attr7:\tEBIT / total assets \n",
    "- attr8:\tbook value of equity / total liabilities \n",
    "- attr9:\tsales / total assets \n",
    "- attr10:\tequity / total assets \n",
    "- attr11:\t(gross profit + extraordinary items + financial expenses) / total assets \n",
    "- attr12:\tgross profit / short-term liabilities \n",
    "- attr13:\t(gross profit + depreciation) / sales \n",
    "- attr14:\t(gross profit + interest) / total assets \n",
    "- attr15:\t(total liabilities * 365) / (gross profit + depreciation) \n",
    "- attr16:\t(gross profit + depreciation) / total liabilities \n",
    "- attr17:\ttotal assets / total liabilities \n",
    "- attr18:\tgross profit / total assets \n",
    "- attr19:\tgross profit / sales \n",
    "- attr20:\t(inventory * 365) / sales \n",
    "- attr21:\tsales (n) / sales (n-1) \n",
    "- attr22:\tprofit on operating activities / total assets \n",
    "- attr23:\tnet profit / sales \n",
    "- attr24:\tgross profit (in 3 years) / total assets \n",
    "- attr25:\t(equity - share capital) / total assets \n",
    "- attr26:\t(net profit + depreciation) / total liabilities \n",
    "- attr27:\tprofit on operating activities / financial expenses \n",
    "- attr28:\tworking capital / fixed assets \n",
    "- attr29:\tlogarithm of total assets \n",
    "- attr30:\t(total liabilities - cash) / sales \n",
    "- attr31:\t(gross profit + interest) / sales \n",
    "- attr32:\t(current liabilities * 365) / cost of products sold \n",
    "- attr33:\toperating expenses / short-term liabilities \n",
    "- attr34:\toperating expenses / total liabilities \n",
    "- attr35:\tprofit on sales / total assets \n",
    "- attr36:\ttotal sales / total assets \n",
    "- attr37:\t(current assets - inventories) / long-term liabilities \n",
    "- attr38:\tconstant capital / total assets \n",
    "- attr39:\tprofit on sales / sales \n",
    "- attr40:\t(current assets - inventory - receivables) / short-term liabilities \n",
    "- attr41:\ttotal liabilities / ((profit on operating activities + depreciation) * (12/365)) \n",
    "- attr42:\tprofit on operating activities / sales \n",
    "- attr43:\trotation receivables + inventory turnover in days \n",
    "- attr44:\t(receivables * 365) / sales \n",
    "- attr45:\tnet profit / inventory \n",
    "- attr46:\t(current assets - inventory) / short-term liabilities \n",
    "- attr47:\t(inventory * 365) / cost of products sold \n",
    "- attr48:\tEBITDA (profit on operating activities - depreciation) / total assets \n",
    "- attr49:\tEBITDA (profit on operating activities - depreciation) / sales \n",
    "- attr50:\tcurrent assets / total liabilities \n",
    "- attr51:\tshort-term liabilities / total assets \n",
    "- attr52:\t(short-term liabilities * 365) / cost of products sold) \n",
    "- attr53:\tequity / fixed assets \n",
    "- attr54:\tconstant capital / fixed assets \n",
    "- attr55:\tworking capital \n",
    "- attr56:\t(sales - cost of products sold) / sales \n",
    "- attr57:\t(current assets - inventory - short-term liabilities) / (sales - gross profit - depreciation) \n",
    "- attr58:\ttotal costs /total sales \n",
    "- attr59:\tlong-term liabilities / equity \n",
    "- attr60:\tsales / inventory \n",
    "- attr61:\tsales / receivables \n",
    "- attr62:\t(short-term liabilities *365) / sales \n",
    "- attr63:\tsales / short-term liabilities \n",
    "- attr64:\tsales / fixed assets"
   ]
  },
  {
   "cell_type": "markdown",
   "metadata": {},
   "source": [
    "# Loading the data: \n",
    "\n",
    "There are several steps we need to perform to load the data. The files provided are not in __.csv__ format but in __.arff__\n",
    "format\n",
    "We need to import arff module from scipy.io library. \n",
    "As shown below: "
   ]
  },
  {
   "cell_type": "code",
   "execution_count": 536,
   "metadata": {},
   "outputs": [],
   "source": [
    "from scipy.io import arff \n",
    "import pandas as pd\n",
    "import numpy as np\n",
    "import os \n",
    "import matplotlib.pyplot as plt \n",
    "%matplotlib inline \n",
    "\n",
    "import warnings\n",
    "warnings.filterwarnings('ignore')"
   ]
  },
  {
   "cell_type": "code",
   "execution_count": 2,
   "metadata": {},
   "outputs": [],
   "source": [
    "os.chdir(r'C:\\Users\\1234567890\\Desktop\\python projects') # set the current directory where the files are downloaded"
   ]
  },
  {
   "cell_type": "code",
   "execution_count": 9,
   "metadata": {},
   "outputs": [
    {
     "name": "stdout",
     "output_type": "stream",
     "text": [
      "LIST OF FILE NAMES:  ['1year.arff', '2year.arff', '3year.arff', '4year.arff', '5year.arff']\n"
     ]
    }
   ],
   "source": [
    "# Read the file names in a list\n",
    "\n",
    "file_names = []\n",
    "for i in range(1,6):\n",
    "    counter = str(i)\n",
    "    name = counter+'year.arff'\n",
    "    file_names.append(name)\n",
    "\n",
    "\n",
    "print(\"LIST OF FILE NAMES: \" , file_names)"
   ]
  },
  {
   "cell_type": "code",
   "execution_count": 92,
   "metadata": {},
   "outputs": [
    {
     "name": "stdout",
     "output_type": "stream",
     "text": [
      "[(array([( 0.20055 , 0.37951,  0.39641, 2.0472 ,   32.351 , 0.38825 ,  0.24976 , 1.3305  , 1.1389 , 0.50494 , 0.24976 ,  0.6598  ,  0.1666  ,  0.24976 ,    497.42,  0.73378 , 2.6349,  0.24976 ,  0.14942 , 43.37  , 1.2479 , 0.21402 ,  0.11998 , 0.47706 , 0.50494 ,  0.60411 ,  1.4582 ,  1.7615 , 5.9443, 0.11788, 0.14942 ,  94.14 , 3.8772, 0.56393 ,  0.21402 , 1.741  , 5.9327e+02, 0.50591,  0.12804 , 0.66295 , 0.051402, 0.12804 , 114.42 ,  71.05 ,  1.0097  , 1.5225 ,  49.394 ,  0.1853  ,  0.11085 , 2.042  , 0.37854, 0.25792,  2.2437 ,  2.248  ,  3.4869e+05,  0.12196 ,  0.39718 , 0.87804, 1.9240e-03,  8.416 , 5.1372,  82.658, 4.4158,  7.4277 , b'0'),\n",
      "       ( 0.20912 , 0.49988,  0.47225, 1.9447 ,   14.786 , 0.      ,  0.25834 , 0.99601 , 1.6996 , 0.49788 , 0.26114 ,  0.5168  ,  0.15835 ,  0.25834 ,    677.96,  0.53838 , 2.0005,  0.25834 ,  0.152   , 87.981 , 1.4293 , 0.24806 ,  0.12304 ,      nan, 0.39542 ,  0.43992 , 88.444  , 16.946  , 3.6884, 0.26969, 0.152   , 122.17 , 2.9876, 2.9876  ,  0.20616 , 1.6996 ,        nan, 0.49788,  0.1213  , 0.086422, 0.064371, 0.14595 , 199.49 , 111.51 ,  0.51045 , 1.1252 , 100.13  ,  0.23727 ,  0.13961 , 1.9447 , 0.49988, 0.33472, 17.866  , 17.866  ,  2.3046e+03,  0.1213  ,  0.42002 , 0.853  , 0.0000e+00,  4.1486, 3.2732, 107.35 , 3.4   , 60.987  , b'0'),\n",
      "       ( 0.24866 , 0.69592,  0.26713, 1.5548 ,   -1.1523, 0.      ,  0.30906 , 0.43695 , 1.309  , 0.30408 , 0.31258 ,  0.64184 ,  0.24435 ,  0.30906 ,    794.16,  0.45961 , 1.4369,  0.30906 ,  0.2361  , 73.133 , 1.4283 , 0.3026  ,  0.18996 ,      nan, 0.28932 ,  0.37282 , 86.011  ,  1.0627 , 4.3749, 0.41929, 0.23815 , 176.93 , 2.063 , 1.4274  ,  0.31565 , 1.309  , 2.3019e+00, 0.51537,  0.24114 , 0.32202 , 0.07402 , 0.23117 , 165.51 ,  92.381,  0.94807 , 1.0101 ,  96.372 ,  0.29181 ,  0.22293 , 1.0758 , 0.48152, 0.48474,  1.2098 ,  2.0504 ,  6.3327e+03,  0.24114 ,  0.81774 , 0.76599, 6.9484e-01,  4.9909, 3.951 , 134.27 , 2.7185,  5.2078 , b'0'),\n",
      "       ...,\n",
      "       ( 0.006338, 0.50276,  0.43923, 1.8736 ,    9.7417, 0.006338,  0.012022, 0.98356 , 1.0083 , 0.49449 , 0.012022,  0.023912,  0.014722,  0.012022,   3465.6 ,  0.10532 , 1.989 ,  0.012022,  0.003342, 34.862 ,     nan, 0.014559,  0.001762, 0.012022, 0.49449 ,  0.094015,      nan,  7.5711 , 4.041 , 0.13806, 0.003342,  51.443, 7.0952, 0.028958,  0.014559, 3.6054 ,        nan, 0.49449,  0.004048, 0.012816, 0.29788 , 0.004048,  94.936,  60.074,  0.018448, 1.1903 ,  35.153 , -0.02637 , -0.007331, 1.8736 , 0.50276, 0.14094,  8.5238 ,  8.5238 ,  4.8269e+03,  0.008258,  0.012817, 0.99174, 0.0000e+00, 10.47  , 6.0759,  51.019, 7.1542, 62.001  , b'1'),\n",
      "       (-0.041643, 0.8481 , -0.12852, 0.57485, -121.92  , 0.      , -0.036795, 0.17901 , 0.42138, 0.15182 , 0.006414, -0.12172 , -0.030657, -0.036795, -23963.  , -0.015232, 1.1791, -0.036795, -0.087322,  9.1932, 0.64405, 0.006414, -0.098825, 0.045607, 0.12978 , -0.020947,  0.14843, -0.15557, 4.104 , 2.0119 , 0.01522 , 212.42 , 1.7183, 0.61247 , -0.098064, 0.52581, 2.9911e-01, 0.69731, -0.23272 , 0.096108, 0.9333  , 0.01522 , 125.36 , 116.17 , -3.9237  , 0.13122,   7.4576, -0.017463, -0.041444, 0.2049 , 0.3023 , 0.58197,  0.18377,  0.84405, -1.6330e+03, -0.23272 , -0.27429 , 0.98788, 3.5931e+00, 39.703 , 3.142 , 261.85 , 1.3939,  0.51005, b'1'),\n",
      "       ( 0.014946, 0.94648,  0.03211, 1.0363 ,  -20.581 , 0.      ,  0.01526 , 0.056357, 2.9694 , 0.053341, 0.076621,  0.017266,  0.01542 ,  0.01526 ,   7545.  ,  0.048376, 1.0565,  0.01526 ,  0.005139, 24.275 ,     nan, 0.049167,  0.005034, 0.01526 , 0.015115,  0.048045,  0.80127,  0.37975, 3.1166, 0.31637, 0.014846, 110.37 , 3.3074, 3.0884  ,  0.046552, 2.9998 , 1.1422e+01, 0.11624,  0.015677, 0.007959, 0.39588 , 0.016558, 111.72 ,  87.443,  0.075684, 0.23141,  24.66  ,  0.018639,  0.006277, 0.96769, 0.88379, 0.30235,  0.63083,  1.3747 ,  4.2000e+01,  0.015705,  0.28021 , 0.97443, 1.1792e+00, 15.036 , 4.1741, 108.64 , 3.3599, 35.118  , b'1')],\n",
      "      dtype=[('Attr1', '<f8'), ('Attr2', '<f8'), ('Attr3', '<f8'), ('Attr4', '<f8'), ('Attr5', '<f8'), ('Attr6', '<f8'), ('Attr7', '<f8'), ('Attr8', '<f8'), ('Attr9', '<f8'), ('Attr10', '<f8'), ('Attr11', '<f8'), ('Attr12', '<f8'), ('Attr13', '<f8'), ('Attr14', '<f8'), ('Attr15', '<f8'), ('Attr16', '<f8'), ('Attr17', '<f8'), ('Attr18', '<f8'), ('Attr19', '<f8'), ('Attr20', '<f8'), ('Attr21', '<f8'), ('Attr22', '<f8'), ('Attr23', '<f8'), ('Attr24', '<f8'), ('Attr25', '<f8'), ('Attr26', '<f8'), ('Attr27', '<f8'), ('Attr28', '<f8'), ('Attr29', '<f8'), ('Attr30', '<f8'), ('Attr31', '<f8'), ('Attr32', '<f8'), ('Attr33', '<f8'), ('Attr34', '<f8'), ('Attr35', '<f8'), ('Attr36', '<f8'), ('Attr37', '<f8'), ('Attr38', '<f8'), ('Attr39', '<f8'), ('Attr40', '<f8'), ('Attr41', '<f8'), ('Attr42', '<f8'), ('Attr43', '<f8'), ('Attr44', '<f8'), ('Attr45', '<f8'), ('Attr46', '<f8'), ('Attr47', '<f8'), ('Attr48', '<f8'), ('Attr49', '<f8'), ('Attr50', '<f8'), ('Attr51', '<f8'), ('Attr52', '<f8'), ('Attr53', '<f8'), ('Attr54', '<f8'), ('Attr55', '<f8'), ('Attr56', '<f8'), ('Attr57', '<f8'), ('Attr58', '<f8'), ('Attr59', '<f8'), ('Attr60', '<f8'), ('Attr61', '<f8'), ('Attr62', '<f8'), ('Attr63', '<f8'), ('Attr64', '<f8'), ('class', 'S1')]), Dataset: '1year-weka.filters.unsupervised.instance.SubsetByExpression-Enot\n",
      "\tAttr1's type is numeric\n",
      "\tAttr2's type is numeric\n",
      "\tAttr3's type is numeric\n",
      "\tAttr4's type is numeric\n",
      "\tAttr5's type is numeric\n",
      "\tAttr6's type is numeric\n",
      "\tAttr7's type is numeric\n",
      "\tAttr8's type is numeric\n",
      "\tAttr9's type is numeric\n",
      "\tAttr10's type is numeric\n",
      "\tAttr11's type is numeric\n",
      "\tAttr12's type is numeric\n",
      "\tAttr13's type is numeric\n",
      "\tAttr14's type is numeric\n",
      "\tAttr15's type is numeric\n",
      "\tAttr16's type is numeric\n",
      "\tAttr17's type is numeric\n",
      "\tAttr18's type is numeric\n",
      "\tAttr19's type is numeric\n",
      "\tAttr20's type is numeric\n",
      "\tAttr21's type is numeric\n",
      "\tAttr22's type is numeric\n",
      "\tAttr23's type is numeric\n",
      "\tAttr24's type is numeric\n",
      "\tAttr25's type is numeric\n",
      "\tAttr26's type is numeric\n",
      "\tAttr27's type is numeric\n",
      "\tAttr28's type is numeric\n",
      "\tAttr29's type is numeric\n",
      "\tAttr30's type is numeric\n",
      "\tAttr31's type is numeric\n",
      "\tAttr32's type is numeric\n",
      "\tAttr33's type is numeric\n",
      "\tAttr34's type is numeric\n",
      "\tAttr35's type is numeric\n",
      "\tAttr36's type is numeric\n",
      "\tAttr37's type is numeric\n",
      "\tAttr38's type is numeric\n",
      "\tAttr39's type is numeric\n",
      "\tAttr40's type is numeric\n",
      "\tAttr41's type is numeric\n",
      "\tAttr42's type is numeric\n",
      "\tAttr43's type is numeric\n",
      "\tAttr44's type is numeric\n",
      "\tAttr45's type is numeric\n",
      "\tAttr46's type is numeric\n",
      "\tAttr47's type is numeric\n",
      "\tAttr48's type is numeric\n",
      "\tAttr49's type is numeric\n",
      "\tAttr50's type is numeric\n",
      "\tAttr51's type is numeric\n",
      "\tAttr52's type is numeric\n",
      "\tAttr53's type is numeric\n",
      "\tAttr54's type is numeric\n",
      "\tAttr55's type is numeric\n",
      "\tAttr56's type is numeric\n",
      "\tAttr57's type is numeric\n",
      "\tAttr58's type is numeric\n",
      "\tAttr59's type is numeric\n",
      "\tAttr60's type is numeric\n",
      "\tAttr61's type is numeric\n",
      "\tAttr62's type is numeric\n",
      "\tAttr63's type is numeric\n",
      "\tAttr64's type is numeric\n",
      "\tclass's type is nominal, range is ('0', '1')\n",
      "), (array([( 0.20235  , 0.465  ,  0.24038, 1.5171 ,  -14.547  ,  5.1069e-01, 0.25366  , 0.91816 , 1.1519 , 0.42695 , 0.25366  , 0.54561  , 0.17865 , 0.25366  ,   603.2 , 0.60511 , 2.1505, 0.25366  , 0.16105   ,  42.697, 1.0806 ,  0.22349 ,  0.12848   , 0.63105  , 0.42695 , 0.49478 ,  1.6345 ,  0.81559, 6.0038, 0.22803, 0.16105   , 124.1  , 2.9412 ,  0.48063 ,  0.22349 , 1.6258 , 5095.3  , 0.42705,  0.1419   , 0.46489  , 0.060856,  0.1419   , 113.36 ,  70.661,  1.0983   , 1.1207 ,  49.181,  0.19577 ,  0.1243  , 1.5167 , 0.4649 , 0.34   ,  1.4486 ,  1.449  ,  2.4250e+05,  0.13184  ,  0.47395  , 0.86816, 0.00023951,  8.5487,  5.1655 , 107.74 , 3.3879 ,  5.344 , b'0'),\n",
      "       ( 0.030073 , 0.59563,  0.18668, 1.3382 ,  -37.859  , -3.1864e-04, 0.04167  , 0.6789  , 0.32356, 0.40437 , 0.042199 , 0.075493 , 0.14563 , 0.04167  ,  4613.9 , 0.079109, 1.6789, 0.04167  , 0.12878   , 239.12 ,     nan,  0.042196,  0.092943  ,       nan, 0.029802, 0.059639, 79.752  ,  0.71432, 4.0672, 1.8052 , 0.12878   , 708.74 , 0.51499,  0.47725 ,  0.039298, 0.32356,      nan, 0.40437,  0.12146  , 0.028211 , 0.41671 ,  0.13041  , 815.69 , 576.57 ,  0.14187  , 0.95419, 272.17 ,  0.036746,  0.11357 , 1.2401 , 0.55197, 1.9418 ,  1.5473 ,  1.5473 ,  2.1795e+03,  0.12146  ,  0.074369 , 0.87235, 0.        ,  1.5264,  0.63305, 622.66 , 0.58619,  1.2381, b'0'),\n",
      "       ( 0.25786  , 0.29949,  0.66519, 3.2211 ,   71.799  ,  0.0000e+00, 0.31877  , 2.332   , 1.6762 , 0.69841 , 0.32453  , 1.0644   , 0.19745 , 0.31877  ,   330.29, 1.1051  , 3.339 , 0.31877  , 0.19017   ,  84.246, 1.1146 ,  0.30466 ,  0.15383   ,       nan, 0.60775 , 0.90169 , 52.886  , 18.836  , 3.7415, 0.14756, 0.19021   ,  78.101, 4.6734 ,  4.6734  ,  0.27656 , 1.6762 ,      nan, 0.69841,  0.16499  , 0.17942  , 0.031507,  0.18175  , 198.36 , 114.11 ,  0.66649  , 1.9292 , 100.89 ,  0.29247 ,  0.17448 , 3.2211 , 0.29949, 0.21398, 19.777  , 19.777  ,  3.6686e+03,  0.16499  ,  0.36921  , 0.81614, 0.        ,  4.3325,  3.1985 ,  65.215, 5.5969 , 47.466 , b'0'),\n",
      "       ...,\n",
      "       ( 0.015092 , 0.55759, -0.2846 , 0.48599,  -85.571  ,  1.5092e-02, 0.0098258, 0.69488 , 1.006  , 0.38746 , 0.0098258, 0.017746 , 0.04257 , 0.0098258,  2702.7 , 0.13505 , 1.7934, 0.0098258, 0.0055547 ,  24.248, 1.265  ,  0.018633,  0.0085317 , 0.0098258, 0.38746 , 0.14449 ,      nan, -0.38937, 4.9993, 0.31327, 0.0055547 , 114.93 , 3.1757 ,  0.033417,  0.018633, 1.7872 ,   38.766, 0.39137,  0.010534 , 0.0067107, 0.21795 ,  0.010534 ,  54.757,  30.508,  0.12842  , 0.27375,  24.394, -0.046844, -0.026482, 0.48258, 0.55368, 0.31489,  0.53011,  0.53546, -2.8417e+04,  0.0059714,  0.03895  , 0.99403, 0.010091  , 15.053 , 11.964  , 114.25 , 3.1948 ,  2.4201, b'1'),\n",
      "       (-0.0025542, 0.47076,  0.42401, 1.9007 ,    0.95483, -2.5542e-03, 0.0017845, 1.1144  , 0.99293, 0.52464 , 0.0017845, 0.0037906, 0.017902, 0.0017845,  3591.3 , 0.10163 , 2.1242, 0.0017845, 0.00066768,  56.775, 0.64299, -0.020174, -0.00095568, 0.0017845, 0.52464 , 0.092417,      nan,  4.0295 , 3.9782, 0.17274, 0.00066768,  63.837, 5.7177 , -0.042854, -0.020174, 2.7197 ,      nan, 0.52464, -0.0075483, 0.022033 , 0.59787 , -0.0075483, 120.78 ,  64.007, -0.006144 , 1.0176 ,  56.374, -0.066234, -0.024782, 1.9007 , 0.47076, 0.1749 ,  4.9857 ,  4.9857 ,  4.0323e+03, -0.0071218, -0.0048685, 1.0071 , 0.        ,  6.4289,  5.7025 ,  64.291, 5.6773 , 25.399 , b'1'),\n",
      "       ( 0.0020717, 0.94315, -0.13474, 0.85607, -119.92   ,  1.5226e-02, 0.0020717, 0.059818, 1.7749 , 0.056417, 0.067687 , 0.002213 , 0.011988, 0.0020717, 16179.  , 0.02256 , 1.0603, 0.0020717, 0.0011672 ,  87.703, 0.58677,  0.055467,  0.0011672 , 0.017617 , 0.017477, 0.02256 ,  0.84534, -0.67987, 3.1086, 0.52435, 0.02907   , 198.7  , 1.838  ,  1.8244  ,  0.055389, 1.7882 ,   50.042, 0.06391,  0.031207 , 0.019268 , 0.42101 ,  0.031251 , 161.09 ,  73.391,  0.0048576, 0.47484,  90.469,  0.036262,  0.02043 , 0.84971, 0.93614, 0.54406,  0.28468,  0.32249, -1.7300e+02,  0.031154 ,  0.03672  , 0.9622 , 0.1328    ,  4.1618,  4.9734 , 192.51 , 1.896  ,  8.9562, b'1')],\n",
      "      dtype=[('Attr1', '<f8'), ('Attr2', '<f8'), ('Attr3', '<f8'), ('Attr4', '<f8'), ('Attr5', '<f8'), ('Attr6', '<f8'), ('Attr7', '<f8'), ('Attr8', '<f8'), ('Attr9', '<f8'), ('Attr10', '<f8'), ('Attr11', '<f8'), ('Attr12', '<f8'), ('Attr13', '<f8'), ('Attr14', '<f8'), ('Attr15', '<f8'), ('Attr16', '<f8'), ('Attr17', '<f8'), ('Attr18', '<f8'), ('Attr19', '<f8'), ('Attr20', '<f8'), ('Attr21', '<f8'), ('Attr22', '<f8'), ('Attr23', '<f8'), ('Attr24', '<f8'), ('Attr25', '<f8'), ('Attr26', '<f8'), ('Attr27', '<f8'), ('Attr28', '<f8'), ('Attr29', '<f8'), ('Attr30', '<f8'), ('Attr31', '<f8'), ('Attr32', '<f8'), ('Attr33', '<f8'), ('Attr34', '<f8'), ('Attr35', '<f8'), ('Attr36', '<f8'), ('Attr37', '<f8'), ('Attr38', '<f8'), ('Attr39', '<f8'), ('Attr40', '<f8'), ('Attr41', '<f8'), ('Attr42', '<f8'), ('Attr43', '<f8'), ('Attr44', '<f8'), ('Attr45', '<f8'), ('Attr46', '<f8'), ('Attr47', '<f8'), ('Attr48', '<f8'), ('Attr49', '<f8'), ('Attr50', '<f8'), ('Attr51', '<f8'), ('Attr52', '<f8'), ('Attr53', '<f8'), ('Attr54', '<f8'), ('Attr55', '<f8'), ('Attr56', '<f8'), ('Attr57', '<f8'), ('Attr58', '<f8'), ('Attr59', '<f8'), ('Attr60', '<f8'), ('Attr61', '<f8'), ('Attr62', '<f8'), ('Attr63', '<f8'), ('Attr64', '<f8'), ('class', 'S1')]), Dataset: '1year-weka.filters.unsupervised.instance.SubsetByExpression-Enot\n",
      "\tAttr1's type is numeric\n",
      "\tAttr2's type is numeric\n",
      "\tAttr3's type is numeric\n",
      "\tAttr4's type is numeric\n",
      "\tAttr5's type is numeric\n",
      "\tAttr6's type is numeric\n",
      "\tAttr7's type is numeric\n",
      "\tAttr8's type is numeric\n",
      "\tAttr9's type is numeric\n",
      "\tAttr10's type is numeric\n",
      "\tAttr11's type is numeric\n",
      "\tAttr12's type is numeric\n",
      "\tAttr13's type is numeric\n",
      "\tAttr14's type is numeric\n",
      "\tAttr15's type is numeric\n",
      "\tAttr16's type is numeric\n",
      "\tAttr17's type is numeric\n",
      "\tAttr18's type is numeric\n",
      "\tAttr19's type is numeric\n",
      "\tAttr20's type is numeric\n",
      "\tAttr21's type is numeric\n",
      "\tAttr22's type is numeric\n",
      "\tAttr23's type is numeric\n",
      "\tAttr24's type is numeric\n",
      "\tAttr25's type is numeric\n",
      "\tAttr26's type is numeric\n",
      "\tAttr27's type is numeric\n",
      "\tAttr28's type is numeric\n",
      "\tAttr29's type is numeric\n",
      "\tAttr30's type is numeric\n",
      "\tAttr31's type is numeric\n",
      "\tAttr32's type is numeric\n",
      "\tAttr33's type is numeric\n",
      "\tAttr34's type is numeric\n",
      "\tAttr35's type is numeric\n",
      "\tAttr36's type is numeric\n",
      "\tAttr37's type is numeric\n",
      "\tAttr38's type is numeric\n",
      "\tAttr39's type is numeric\n",
      "\tAttr40's type is numeric\n",
      "\tAttr41's type is numeric\n",
      "\tAttr42's type is numeric\n",
      "\tAttr43's type is numeric\n",
      "\tAttr44's type is numeric\n",
      "\tAttr45's type is numeric\n",
      "\tAttr46's type is numeric\n",
      "\tAttr47's type is numeric\n",
      "\tAttr48's type is numeric\n",
      "\tAttr49's type is numeric\n",
      "\tAttr50's type is numeric\n",
      "\tAttr51's type is numeric\n",
      "\tAttr52's type is numeric\n",
      "\tAttr53's type is numeric\n",
      "\tAttr54's type is numeric\n",
      "\tAttr55's type is numeric\n",
      "\tAttr56's type is numeric\n",
      "\tAttr57's type is numeric\n",
      "\tAttr58's type is numeric\n",
      "\tAttr59's type is numeric\n",
      "\tAttr60's type is numeric\n",
      "\tAttr61's type is numeric\n",
      "\tAttr62's type is numeric\n",
      "\tAttr63's type is numeric\n",
      "\tAttr64's type is numeric\n",
      "\tclass's type is nominal, range is ('0', '1')\n",
      ")]\n"
     ]
    }
   ],
   "source": [
    "# Load the metadata in a list called file_data using the file_names: \n",
    "\n",
    "file_data = []\n",
    "for file in file_names:\n",
    "    file_data.append(arff.loadarff(file))\n",
    "    \n",
    "print(file_data[0:2]) # Show how the metadata looks like "
   ]
  },
  {
   "cell_type": "code",
   "execution_count": 107,
   "metadata": {},
   "outputs": [],
   "source": [
    "# Create a readable dataframe object from our .arff metadata: \n",
    "\n",
    "for i in range(0, len(file_data)):\n",
    "    if i == 0:\n",
    "        df = pd.DataFrame.from_records(data = file_data[i][0])\n",
    "        continue\n",
    "        \n",
    "    if i != 0:\n",
    "        d = pd.DataFrame.from_records(data = file_data[i][0])\n",
    "        df = df.append(d)"
   ]
  },
  {
   "cell_type": "code",
   "execution_count": 108,
   "metadata": {},
   "outputs": [
    {
     "name": "stdout",
     "output_type": "stream",
     "text": [
      "Shape of our DataFrame:  (43405, 65)\n"
     ]
    }
   ],
   "source": [
    "print(\"Shape of our DataFrame: \", df.shape)"
   ]
  },
  {
   "cell_type": "code",
   "execution_count": 109,
   "metadata": {},
   "outputs": [
    {
     "name": "stdout",
     "output_type": "stream",
     "text": [
      "      Attr1    Attr2    Attr3   Attr4    Attr5    Attr6     Attr7    Attr8  \\\n",
      "0  0.200550  0.37951  0.39641  2.0472  32.3510  0.38825  0.249760  1.33050   \n",
      "1  0.209120  0.49988  0.47225  1.9447  14.7860  0.00000  0.258340  0.99601   \n",
      "2  0.248660  0.69592  0.26713  1.5548  -1.1523  0.00000  0.309060  0.43695   \n",
      "3  0.081483  0.30734  0.45879  2.4928  51.9520  0.14988  0.092704  1.86610   \n",
      "4  0.187320  0.61323  0.22960  1.4063  -7.3128  0.18732  0.187320  0.63070   \n",
      "\n",
      "    Attr9   Attr10  ...      Attr56   Attr57   Attr58    Attr59  Attr60  \\\n",
      "0  1.1389  0.50494  ...    0.121960  0.39718  0.87804  0.001924  8.4160   \n",
      "1  1.6996  0.49788  ...    0.121300  0.42002  0.85300  0.000000  4.1486   \n",
      "2  1.3090  0.30408  ...    0.241140  0.81774  0.76599  0.694840  4.9909   \n",
      "3  1.0571  0.57353  ...    0.054015  0.14207  0.94598  0.000000  4.5746   \n",
      "4  1.1559  0.38677  ...    0.134850  0.48431  0.86515  0.124440  6.3985   \n",
      "\n",
      "   Attr61   Attr62  Attr63   Attr64  class  \n",
      "0  5.1372   82.658  4.4158   7.4277   b'0'  \n",
      "1  3.2732  107.350  3.4000  60.9870   b'0'  \n",
      "2  3.9510  134.270  2.7185   5.2078   b'0'  \n",
      "3  3.6147   86.435  4.2228   5.5497   b'0'  \n",
      "4  4.3158  127.210  2.8692   7.8980   b'0'  \n",
      "\n",
      "[5 rows x 65 columns]\n"
     ]
    }
   ],
   "source": [
    "print(df.head())"
   ]
  },
  {
   "cell_type": "code",
   "execution_count": 114,
   "metadata": {},
   "outputs": [],
   "source": [
    "df.columns = map(str.lower, df.columns) # lowercase all column names\n",
    "df['class'] = df['class'].astype('int') # convert the last column (target column) to integer format. "
   ]
  },
  {
   "cell_type": "code",
   "execution_count": 143,
   "metadata": {},
   "outputs": [
    {
     "data": {
      "text/html": [
       "<div>\n",
       "<style scoped>\n",
       "    .dataframe tbody tr th:only-of-type {\n",
       "        vertical-align: middle;\n",
       "    }\n",
       "\n",
       "    .dataframe tbody tr th {\n",
       "        vertical-align: top;\n",
       "    }\n",
       "\n",
       "    .dataframe thead th {\n",
       "        text-align: right;\n",
       "    }\n",
       "</style>\n",
       "<table border=\"1\" class=\"dataframe\">\n",
       "  <thead>\n",
       "    <tr style=\"text-align: right;\">\n",
       "      <th></th>\n",
       "      <th>attr1</th>\n",
       "      <th>attr2</th>\n",
       "      <th>attr3</th>\n",
       "      <th>attr4</th>\n",
       "      <th>attr5</th>\n",
       "      <th>attr6</th>\n",
       "      <th>attr7</th>\n",
       "      <th>attr8</th>\n",
       "      <th>attr9</th>\n",
       "      <th>attr10</th>\n",
       "      <th>...</th>\n",
       "      <th>attr56</th>\n",
       "      <th>attr57</th>\n",
       "      <th>attr58</th>\n",
       "      <th>attr59</th>\n",
       "      <th>attr60</th>\n",
       "      <th>attr61</th>\n",
       "      <th>attr62</th>\n",
       "      <th>attr63</th>\n",
       "      <th>attr64</th>\n",
       "      <th>class</th>\n",
       "    </tr>\n",
       "  </thead>\n",
       "  <tbody>\n",
       "    <tr>\n",
       "      <th>0</th>\n",
       "      <td>0.200550</td>\n",
       "      <td>0.37951</td>\n",
       "      <td>0.39641</td>\n",
       "      <td>2.0472</td>\n",
       "      <td>32.3510</td>\n",
       "      <td>0.38825</td>\n",
       "      <td>0.249760</td>\n",
       "      <td>1.33050</td>\n",
       "      <td>1.1389</td>\n",
       "      <td>0.50494</td>\n",
       "      <td>...</td>\n",
       "      <td>0.121960</td>\n",
       "      <td>0.39718</td>\n",
       "      <td>0.87804</td>\n",
       "      <td>0.001924</td>\n",
       "      <td>8.4160</td>\n",
       "      <td>5.1372</td>\n",
       "      <td>82.658</td>\n",
       "      <td>4.4158</td>\n",
       "      <td>7.4277</td>\n",
       "      <td>0</td>\n",
       "    </tr>\n",
       "    <tr>\n",
       "      <th>1</th>\n",
       "      <td>0.209120</td>\n",
       "      <td>0.49988</td>\n",
       "      <td>0.47225</td>\n",
       "      <td>1.9447</td>\n",
       "      <td>14.7860</td>\n",
       "      <td>0.00000</td>\n",
       "      <td>0.258340</td>\n",
       "      <td>0.99601</td>\n",
       "      <td>1.6996</td>\n",
       "      <td>0.49788</td>\n",
       "      <td>...</td>\n",
       "      <td>0.121300</td>\n",
       "      <td>0.42002</td>\n",
       "      <td>0.85300</td>\n",
       "      <td>0.000000</td>\n",
       "      <td>4.1486</td>\n",
       "      <td>3.2732</td>\n",
       "      <td>107.350</td>\n",
       "      <td>3.4000</td>\n",
       "      <td>60.9870</td>\n",
       "      <td>0</td>\n",
       "    </tr>\n",
       "    <tr>\n",
       "      <th>2</th>\n",
       "      <td>0.248660</td>\n",
       "      <td>0.69592</td>\n",
       "      <td>0.26713</td>\n",
       "      <td>1.5548</td>\n",
       "      <td>-1.1523</td>\n",
       "      <td>0.00000</td>\n",
       "      <td>0.309060</td>\n",
       "      <td>0.43695</td>\n",
       "      <td>1.3090</td>\n",
       "      <td>0.30408</td>\n",
       "      <td>...</td>\n",
       "      <td>0.241140</td>\n",
       "      <td>0.81774</td>\n",
       "      <td>0.76599</td>\n",
       "      <td>0.694840</td>\n",
       "      <td>4.9909</td>\n",
       "      <td>3.9510</td>\n",
       "      <td>134.270</td>\n",
       "      <td>2.7185</td>\n",
       "      <td>5.2078</td>\n",
       "      <td>0</td>\n",
       "    </tr>\n",
       "    <tr>\n",
       "      <th>3</th>\n",
       "      <td>0.081483</td>\n",
       "      <td>0.30734</td>\n",
       "      <td>0.45879</td>\n",
       "      <td>2.4928</td>\n",
       "      <td>51.9520</td>\n",
       "      <td>0.14988</td>\n",
       "      <td>0.092704</td>\n",
       "      <td>1.86610</td>\n",
       "      <td>1.0571</td>\n",
       "      <td>0.57353</td>\n",
       "      <td>...</td>\n",
       "      <td>0.054015</td>\n",
       "      <td>0.14207</td>\n",
       "      <td>0.94598</td>\n",
       "      <td>0.000000</td>\n",
       "      <td>4.5746</td>\n",
       "      <td>3.6147</td>\n",
       "      <td>86.435</td>\n",
       "      <td>4.2228</td>\n",
       "      <td>5.5497</td>\n",
       "      <td>0</td>\n",
       "    </tr>\n",
       "    <tr>\n",
       "      <th>4</th>\n",
       "      <td>0.187320</td>\n",
       "      <td>0.61323</td>\n",
       "      <td>0.22960</td>\n",
       "      <td>1.4063</td>\n",
       "      <td>-7.3128</td>\n",
       "      <td>0.18732</td>\n",
       "      <td>0.187320</td>\n",
       "      <td>0.63070</td>\n",
       "      <td>1.1559</td>\n",
       "      <td>0.38677</td>\n",
       "      <td>...</td>\n",
       "      <td>0.134850</td>\n",
       "      <td>0.48431</td>\n",
       "      <td>0.86515</td>\n",
       "      <td>0.124440</td>\n",
       "      <td>6.3985</td>\n",
       "      <td>4.3158</td>\n",
       "      <td>127.210</td>\n",
       "      <td>2.8692</td>\n",
       "      <td>7.8980</td>\n",
       "      <td>0</td>\n",
       "    </tr>\n",
       "  </tbody>\n",
       "</table>\n",
       "<p>5 rows × 65 columns</p>\n",
       "</div>"
      ],
      "text/plain": [
       "      attr1    attr2    attr3   attr4    attr5    attr6     attr7    attr8  \\\n",
       "0  0.200550  0.37951  0.39641  2.0472  32.3510  0.38825  0.249760  1.33050   \n",
       "1  0.209120  0.49988  0.47225  1.9447  14.7860  0.00000  0.258340  0.99601   \n",
       "2  0.248660  0.69592  0.26713  1.5548  -1.1523  0.00000  0.309060  0.43695   \n",
       "3  0.081483  0.30734  0.45879  2.4928  51.9520  0.14988  0.092704  1.86610   \n",
       "4  0.187320  0.61323  0.22960  1.4063  -7.3128  0.18732  0.187320  0.63070   \n",
       "\n",
       "    attr9   attr10  ...      attr56   attr57   attr58    attr59  attr60  \\\n",
       "0  1.1389  0.50494  ...    0.121960  0.39718  0.87804  0.001924  8.4160   \n",
       "1  1.6996  0.49788  ...    0.121300  0.42002  0.85300  0.000000  4.1486   \n",
       "2  1.3090  0.30408  ...    0.241140  0.81774  0.76599  0.694840  4.9909   \n",
       "3  1.0571  0.57353  ...    0.054015  0.14207  0.94598  0.000000  4.5746   \n",
       "4  1.1559  0.38677  ...    0.134850  0.48431  0.86515  0.124440  6.3985   \n",
       "\n",
       "   attr61   attr62  attr63   attr64  class  \n",
       "0  5.1372   82.658  4.4158   7.4277      0  \n",
       "1  3.2732  107.350  3.4000  60.9870      0  \n",
       "2  3.9510  134.270  2.7185   5.2078      0  \n",
       "3  3.6147   86.435  4.2228   5.5497      0  \n",
       "4  4.3158  127.210  2.8692   7.8980      0  \n",
       "\n",
       "[5 rows x 65 columns]"
      ]
     },
     "execution_count": 143,
     "metadata": {},
     "output_type": "execute_result"
    }
   ],
   "source": [
    "df.reset_index()\n",
    "df.head() # let's check our new dataframe"
   ]
  },
  {
   "cell_type": "markdown",
   "metadata": {},
   "source": [
    "# Basic EDA: \n"
   ]
  },
  {
   "cell_type": "markdown",
   "metadata": {},
   "source": [
    "## Plotting missing values: \n",
    "\n",
    "Let's start with looking at missing values.  "
   ]
  },
  {
   "cell_type": "code",
   "execution_count": 132,
   "metadata": {},
   "outputs": [
    {
     "data": {
      "image/png": "[encoded data removed]",
      "text/plain": [
       "<Figure size 1584x720 with 1 Axes>"
      ]
     },
     "metadata": {},
     "output_type": "display_data"
    }
   ],
   "source": [
    "import seaborn as sns\n",
    "# Graphical representation of the missing values.\n",
    "x = df.columns\n",
    "y = df.isnull().sum()\n",
    "sns.set()\n",
    "sns.set(rc={'figure.figsize':(22,10)})\n",
    "sns.barplot(x,y)\n",
    "ax = plt.gca()\n",
    "for p in ax.patches:\n",
    "    height = p.get_height()\n",
    "    ax.text(p.get_x() + p.get_width()/2.,\n",
    "            height + 2,\n",
    "            int(height),\n",
    "            fontsize=15, ha='center', va='bottom')\n",
    "sns.set(font_scale=2)\n",
    "ax.set_xlabel(\"Data Attributes\")\n",
    "ax.set_ylabel(\"count of missing records for each attribute\")\n",
    "plt.xticks(rotation=90)\n",
    "plt.show()"
   ]
  },
  {
   "cell_type": "markdown",
   "metadata": {},
   "source": [
    "__attr37 (current assets - inventories) / long-term liabilities__ \n",
    "\n",
    "__attr21  sales (n) / sales (n-1)__\n",
    "\n",
    "These 2 attributes have the higest missing values"
   ]
  },
  {
   "cell_type": "markdown",
   "metadata": {},
   "source": [
    "# Imbalance target class distribution\n",
    "\n",
    "__Observation__: From our plot below we see that we have an imbalanced classification problem \n",
    "\n",
    "__Conclusion__: For an imbalanced class distribution problem, simple measure of accuracy will not be enough. \n",
    "\n",
    "We will have to look at confusion matrix, precision, recall, f1 score, & roc_auc. \n"
   ]
  },
  {
   "cell_type": "code",
   "execution_count": 151,
   "metadata": {},
   "outputs": [
    {
     "data": {
      "image/png": "[encoded data removed]",
      "text/plain": [
       "<Figure size 1584x720 with 1 Axes>"
      ]
     },
     "metadata": {},
     "output_type": "display_data"
    }
   ],
   "source": [
    "total_len = len(df['class'])\n",
    "percentage_labels = (df['class'].value_counts()/total_len)*100\n",
    "percentage_labels\n",
    "sns.set()\n",
    "sns.countplot(df['class']).set_title('Data Distribution for target variable')\n",
    "ax = plt.gca()\n",
    "for p in ax.patches:\n",
    "    height = p.get_height()\n",
    "    ax.text(p.get_x() + p.get_width()/2.,\n",
    "            height + 2,\n",
    "            '{:.2f}%'.format(100*(height/total_len)),\n",
    "            fontsize=14, ha='center', va='bottom')\n",
    "sns.set(font_scale=3)\n",
    "ax.set_xlabel(\"Labels for class distribution\")\n",
    "ax.set_ylabel(\"Numbers of records\")\n",
    "plt.show()"
   ]
  },
  {
   "cell_type": "markdown",
   "metadata": {},
   "source": [
    "### High Level Collinearity plot"
   ]
  },
  {
   "cell_type": "code",
   "execution_count": 195,
   "metadata": {},
   "outputs": [
    {
     "data": {
      "image/png": "[encoded data removed]",
      "text/plain": [
       "<Figure size 1296x1296 with 2 Axes>"
      ]
     },
     "metadata": {},
     "output_type": "display_data"
    }
   ],
   "source": [
    "sns.set(style=\"white\")\n",
    "\n",
    "\n",
    "# Compute the correlation matrix\n",
    "corr = df.corr()\n",
    "\n",
    "\n",
    "# Set up the matplotlib figure\n",
    "f, ax = plt.subplots(figsize=(18, 18))\n",
    "\n",
    "# Generate a custom diverging colormap\n",
    "cmap = sns.diverging_palette(220, 10, as_cmap=True)\n",
    "\n",
    "# Draw the heatmap with the mask and correct aspect ratio\n",
    "sns.heatmap(corr, cmap=cmap, vmax=.3, center=0,\n",
    "            square=True, linewidths=.5, cbar_kws={\"shrink\": .5})\n",
    "\n",
    "plt.show()"
   ]
  },
  {
   "cell_type": "markdown",
   "metadata": {},
   "source": [
    "From the correlation heatmap below we can see some attributes are highly correlated with each other. We will visit this later and drop some variables that are highly correlated or above a certain threshold. Alternatively we can use models that are not affected by multicolinearity."
   ]
  },
  {
   "cell_type": "markdown",
   "metadata": {},
   "source": [
    "#  Addressing missing values with simple mean replacement: \n"
   ]
  },
  {
   "cell_type": "code",
   "execution_count": 334,
   "metadata": {},
   "outputs": [],
   "source": [
    "df1 = df.fillna(df.mean())  # df1 is mean replaced "
   ]
  },
  {
   "cell_type": "markdown",
   "metadata": {},
   "source": [
    "We will try mean replacement on the missing values. \n",
    "\n",
    "We could also use median replacement but to keep it simple we will use mean for now"
   ]
  },
  {
   "cell_type": "code",
   "execution_count": 335,
   "metadata": {},
   "outputs": [],
   "source": [
    "X = df1.drop('class', axis=1) \n",
    "y = df1['class']"
   ]
  },
  {
   "cell_type": "code",
   "execution_count": 621,
   "metadata": {},
   "outputs": [
    {
     "data": {
      "text/html": [
       "<div>\n",
       "<style scoped>\n",
       "    .dataframe tbody tr th:only-of-type {\n",
       "        vertical-align: middle;\n",
       "    }\n",
       "\n",
       "    .dataframe tbody tr th {\n",
       "        vertical-align: top;\n",
       "    }\n",
       "\n",
       "    .dataframe thead th {\n",
       "        text-align: right;\n",
       "    }\n",
       "</style>\n",
       "<table border=\"1\" class=\"dataframe\">\n",
       "  <thead>\n",
       "    <tr style=\"text-align: right;\">\n",
       "      <th></th>\n",
       "      <th>attr1</th>\n",
       "      <th>attr2</th>\n",
       "      <th>attr3</th>\n",
       "      <th>attr4</th>\n",
       "      <th>attr5</th>\n",
       "      <th>attr6</th>\n",
       "      <th>attr7</th>\n",
       "      <th>attr8</th>\n",
       "      <th>attr9</th>\n",
       "      <th>attr10</th>\n",
       "      <th>...</th>\n",
       "      <th>attr56</th>\n",
       "      <th>attr57</th>\n",
       "      <th>attr58</th>\n",
       "      <th>attr59</th>\n",
       "      <th>attr60</th>\n",
       "      <th>attr61</th>\n",
       "      <th>attr62</th>\n",
       "      <th>attr63</th>\n",
       "      <th>attr64</th>\n",
       "      <th>class</th>\n",
       "    </tr>\n",
       "  </thead>\n",
       "  <tbody>\n",
       "    <tr>\n",
       "      <th>count</th>\n",
       "      <td>43397.000000</td>\n",
       "      <td>43397.000000</td>\n",
       "      <td>43397.000000</td>\n",
       "      <td>43271.000000</td>\n",
       "      <td>4.331600e+04</td>\n",
       "      <td>43397.000000</td>\n",
       "      <td>43397.000000</td>\n",
       "      <td>43311.000000</td>\n",
       "      <td>43396.000000</td>\n",
       "      <td>43397.000000</td>\n",
       "      <td>...</td>\n",
       "      <td>4.327800e+04</td>\n",
       "      <td>43398.000000</td>\n",
       "      <td>4.332100e+04</td>\n",
       "      <td>43398.000000</td>\n",
       "      <td>4.125300e+04</td>\n",
       "      <td>43303.000000</td>\n",
       "      <td>4.327800e+04</td>\n",
       "      <td>43271.000000</td>\n",
       "      <td>42593.000000</td>\n",
       "      <td>43405.000000</td>\n",
       "    </tr>\n",
       "    <tr>\n",
       "      <th>mean</th>\n",
       "      <td>0.035160</td>\n",
       "      <td>0.590212</td>\n",
       "      <td>0.114431</td>\n",
       "      <td>6.314702</td>\n",
       "      <td>-3.853466e+02</td>\n",
       "      <td>-0.056107</td>\n",
       "      <td>0.093478</td>\n",
       "      <td>12.640779</td>\n",
       "      <td>2.652166</td>\n",
       "      <td>0.626868</td>\n",
       "      <td>...</td>\n",
       "      <td>-2.621959e+01</td>\n",
       "      <td>-0.010510</td>\n",
       "      <td>3.002644e+01</td>\n",
       "      <td>1.333288</td>\n",
       "      <td>4.480858e+02</td>\n",
       "      <td>17.033202</td>\n",
       "      <td>1.502328e+03</td>\n",
       "      <td>9.343074</td>\n",
       "      <td>72.788592</td>\n",
       "      <td>0.048174</td>\n",
       "    </tr>\n",
       "    <tr>\n",
       "      <th>std</th>\n",
       "      <td>2.994109</td>\n",
       "      <td>5.842748</td>\n",
       "      <td>5.439429</td>\n",
       "      <td>295.434425</td>\n",
       "      <td>6.124303e+04</td>\n",
       "      <td>7.201326</td>\n",
       "      <td>5.713075</td>\n",
       "      <td>505.894281</td>\n",
       "      <td>62.932732</td>\n",
       "      <td>14.670597</td>\n",
       "      <td>...</td>\n",
       "      <td>5.327862e+03</td>\n",
       "      <td>13.674072</td>\n",
       "      <td>5.334454e+03</td>\n",
       "      <td>122.104445</td>\n",
       "      <td>3.234560e+04</td>\n",
       "      <td>553.049406</td>\n",
       "      <td>1.392667e+05</td>\n",
       "      <td>124.177354</td>\n",
       "      <td>2369.339482</td>\n",
       "      <td>0.214137</td>\n",
       "    </tr>\n",
       "    <tr>\n",
       "      <th>min</th>\n",
       "      <td>-463.890000</td>\n",
       "      <td>-430.870000</td>\n",
       "      <td>-479.960000</td>\n",
       "      <td>-0.403110</td>\n",
       "      <td>-1.190300e+07</td>\n",
       "      <td>-508.410000</td>\n",
       "      <td>-517.480000</td>\n",
       "      <td>-141.410000</td>\n",
       "      <td>-3.496000</td>\n",
       "      <td>-479.910000</td>\n",
       "      <td>...</td>\n",
       "      <td>-1.108300e+06</td>\n",
       "      <td>-1667.300000</td>\n",
       "      <td>-1.986900e+02</td>\n",
       "      <td>-327.970000</td>\n",
       "      <td>-1.244000e+01</td>\n",
       "      <td>-12.656000</td>\n",
       "      <td>-2.336500e+06</td>\n",
       "      <td>-1.543200</td>\n",
       "      <td>-10677.000000</td>\n",
       "      <td>0.000000</td>\n",
       "    </tr>\n",
       "    <tr>\n",
       "      <th>25%</th>\n",
       "      <td>0.003429</td>\n",
       "      <td>0.268980</td>\n",
       "      <td>0.021521</td>\n",
       "      <td>1.049500</td>\n",
       "      <td>-4.908000e+01</td>\n",
       "      <td>0.000000</td>\n",
       "      <td>0.005776</td>\n",
       "      <td>0.430275</td>\n",
       "      <td>1.018500</td>\n",
       "      <td>0.295470</td>\n",
       "      <td>...</td>\n",
       "      <td>9.348500e-03</td>\n",
       "      <td>0.014649</td>\n",
       "      <td>8.753200e-01</td>\n",
       "      <td>0.000000</td>\n",
       "      <td>5.545500e+00</td>\n",
       "      <td>4.510150</td>\n",
       "      <td>4.214400e+01</td>\n",
       "      <td>3.097650</td>\n",
       "      <td>2.176800</td>\n",
       "      <td>0.000000</td>\n",
       "    </tr>\n",
       "    <tr>\n",
       "      <th>50%</th>\n",
       "      <td>0.049660</td>\n",
       "      <td>0.471900</td>\n",
       "      <td>0.196610</td>\n",
       "      <td>1.569800</td>\n",
       "      <td>-1.034500e+00</td>\n",
       "      <td>0.000000</td>\n",
       "      <td>0.059634</td>\n",
       "      <td>1.070400</td>\n",
       "      <td>1.195350</td>\n",
       "      <td>0.505970</td>\n",
       "      <td>...</td>\n",
       "      <td>5.294300e-02</td>\n",
       "      <td>0.119670</td>\n",
       "      <td>9.509600e-01</td>\n",
       "      <td>0.006366</td>\n",
       "      <td>9.791700e+00</td>\n",
       "      <td>6.636300</td>\n",
       "      <td>7.132600e+01</td>\n",
       "      <td>5.087600</td>\n",
       "      <td>4.282500</td>\n",
       "      <td>0.000000</td>\n",
       "    </tr>\n",
       "    <tr>\n",
       "      <th>75%</th>\n",
       "      <td>0.129580</td>\n",
       "      <td>0.688320</td>\n",
       "      <td>0.403390</td>\n",
       "      <td>2.787450</td>\n",
       "      <td>5.063425e+01</td>\n",
       "      <td>0.089446</td>\n",
       "      <td>0.150880</td>\n",
       "      <td>2.615700</td>\n",
       "      <td>2.062500</td>\n",
       "      <td>0.709100</td>\n",
       "      <td>...</td>\n",
       "      <td>1.290975e-01</td>\n",
       "      <td>0.284605</td>\n",
       "      <td>9.926400e-01</td>\n",
       "      <td>0.236052</td>\n",
       "      <td>2.018100e+01</td>\n",
       "      <td>10.394500</td>\n",
       "      <td>1.172200e+02</td>\n",
       "      <td>8.598850</td>\n",
       "      <td>9.776200</td>\n",
       "      <td>0.000000</td>\n",
       "    </tr>\n",
       "    <tr>\n",
       "      <th>max</th>\n",
       "      <td>94.280000</td>\n",
       "      <td>480.960000</td>\n",
       "      <td>28.336000</td>\n",
       "      <td>53433.000000</td>\n",
       "      <td>1.250100e+06</td>\n",
       "      <td>543.250000</td>\n",
       "      <td>649.230000</td>\n",
       "      <td>53432.000000</td>\n",
       "      <td>9742.300000</td>\n",
       "      <td>1099.500000</td>\n",
       "      <td>...</td>\n",
       "      <td>2.931500e+02</td>\n",
       "      <td>552.640000</td>\n",
       "      <td>1.108300e+06</td>\n",
       "      <td>23853.000000</td>\n",
       "      <td>4.818700e+06</td>\n",
       "      <td>108000.000000</td>\n",
       "      <td>2.501600e+07</td>\n",
       "      <td>23454.000000</td>\n",
       "      <td>294770.000000</td>\n",
       "      <td>1.000000</td>\n",
       "    </tr>\n",
       "  </tbody>\n",
       "</table>\n",
       "<p>8 rows × 65 columns</p>\n",
       "</div>"
      ],
      "text/plain": [
       "              attr1         attr2         attr3         attr4         attr5  \\\n",
       "count  43397.000000  43397.000000  43397.000000  43271.000000  4.331600e+04   \n",
       "mean       0.035160      0.590212      0.114431      6.314702 -3.853466e+02   \n",
       "std        2.994109      5.842748      5.439429    295.434425  6.124303e+04   \n",
       "min     -463.890000   -430.870000   -479.960000     -0.403110 -1.190300e+07   \n",
       "25%        0.003429      0.268980      0.021521      1.049500 -4.908000e+01   \n",
       "50%        0.049660      0.471900      0.196610      1.569800 -1.034500e+00   \n",
       "75%        0.129580      0.688320      0.403390      2.787450  5.063425e+01   \n",
       "max       94.280000    480.960000     28.336000  53433.000000  1.250100e+06   \n",
       "\n",
       "              attr6         attr7         attr8         attr9        attr10  \\\n",
       "count  43397.000000  43397.000000  43311.000000  43396.000000  43397.000000   \n",
       "mean      -0.056107      0.093478     12.640779      2.652166      0.626868   \n",
       "std        7.201326      5.713075    505.894281     62.932732     14.670597   \n",
       "min     -508.410000   -517.480000   -141.410000     -3.496000   -479.910000   \n",
       "25%        0.000000      0.005776      0.430275      1.018500      0.295470   \n",
       "50%        0.000000      0.059634      1.070400      1.195350      0.505970   \n",
       "75%        0.089446      0.150880      2.615700      2.062500      0.709100   \n",
       "max      543.250000    649.230000  53432.000000   9742.300000   1099.500000   \n",
       "\n",
       "           ...             attr56        attr57        attr58        attr59  \\\n",
       "count      ...       4.327800e+04  43398.000000  4.332100e+04  43398.000000   \n",
       "mean       ...      -2.621959e+01     -0.010510  3.002644e+01      1.333288   \n",
       "std        ...       5.327862e+03     13.674072  5.334454e+03    122.104445   \n",
       "min        ...      -1.108300e+06  -1667.300000 -1.986900e+02   -327.970000   \n",
       "25%        ...       9.348500e-03      0.014649  8.753200e-01      0.000000   \n",
       "50%        ...       5.294300e-02      0.119670  9.509600e-01      0.006366   \n",
       "75%        ...       1.290975e-01      0.284605  9.926400e-01      0.236052   \n",
       "max        ...       2.931500e+02    552.640000  1.108300e+06  23853.000000   \n",
       "\n",
       "             attr60         attr61        attr62        attr63         attr64  \\\n",
       "count  4.125300e+04   43303.000000  4.327800e+04  43271.000000   42593.000000   \n",
       "mean   4.480858e+02      17.033202  1.502328e+03      9.343074      72.788592   \n",
       "std    3.234560e+04     553.049406  1.392667e+05    124.177354    2369.339482   \n",
       "min   -1.244000e+01     -12.656000 -2.336500e+06     -1.543200  -10677.000000   \n",
       "25%    5.545500e+00       4.510150  4.214400e+01      3.097650       2.176800   \n",
       "50%    9.791700e+00       6.636300  7.132600e+01      5.087600       4.282500   \n",
       "75%    2.018100e+01      10.394500  1.172200e+02      8.598850       9.776200   \n",
       "max    4.818700e+06  108000.000000  2.501600e+07  23454.000000  294770.000000   \n",
       "\n",
       "              class  \n",
       "count  43405.000000  \n",
       "mean       0.048174  \n",
       "std        0.214137  \n",
       "min        0.000000  \n",
       "25%        0.000000  \n",
       "50%        0.000000  \n",
       "75%        0.000000  \n",
       "max        1.000000  \n",
       "\n",
       "[8 rows x 65 columns]"
      ]
     },
     "execution_count": 621,
     "metadata": {},
     "output_type": "execute_result"
    }
   ],
   "source": [
    "df.describe()"
   ]
  },
  {
   "cell_type": "markdown",
   "metadata": {},
   "source": [
    "## Scaling the data using StandardScaler\n",
    "\n",
    "We need to scale all the features because they are not on the same range of values. This could affect the performance of our model. We will use StandardScaler from sklearn."
   ]
  },
  {
   "cell_type": "code",
   "execution_count": 337,
   "metadata": {},
   "outputs": [],
   "source": [
    "# Import StandardScaler from scikit-learn\n",
    "from sklearn.preprocessing import StandardScaler\n",
    "# Create the scaler\n",
    "ss = StandardScaler()\n",
    "\n",
    "X_scaled = ss.fit_transform(X)"
   ]
  },
  {
   "cell_type": "markdown",
   "metadata": {},
   "source": [
    "__Now we will split the data using stratify parameter = y. This will ensure class distribution for the target is kept constant during the split.__ "
   ]
  },
  {
   "cell_type": "code",
   "execution_count": 338,
   "metadata": {},
   "outputs": [],
   "source": [
    "from sklearn.model_selection import train_test_split\n",
    "X_train, X_test, y_train, y_test = train_test_split(X_scaled, y, test_size=0.20, stratify = y, random_state = 42)"
   ]
  },
  {
   "cell_type": "markdown",
   "metadata": {},
   "source": [
    "### Defining a cvDictGen function to compare initial models "
   ]
  },
  {
   "cell_type": "code",
   "execution_count": 339,
   "metadata": {},
   "outputs": [],
   "source": [
    "from sklearn.model_selection import cross_val_score\n",
    "def cvDictGen(functions, scr, X_train, y_train, cv=5, verbose=1):\n",
    "    cvDict = {}\n",
    "    for func in functions:\n",
    "        cvScore = cross_val_score(func, X_train, y_train, cv=cv, verbose=verbose, scoring=scr)\n",
    "        cvDict[str(func).split('(')[0]] = [cvScore.mean(), cvScore.std()]\n",
    "    \n",
    "    return cvDict"
   ]
  },
  {
   "cell_type": "markdown",
   "metadata": {},
   "source": [
    "# Importing some baseline models"
   ]
  },
  {
   "cell_type": "code",
   "execution_count": null,
   "metadata": {},
   "outputs": [],
   "source": [
    "from sklearn.linear_model import LogisticRegression\n",
    "from sklearn.ensemble import AdaBoostClassifier, GradientBoostingClassifier, RandomForestClassifier\n",
    "from sklearn.neighbors import KNeighborsClassifier"
   ]
  },
  {
   "cell_type": "markdown",
   "metadata": {},
   "source": [
    "### Defining the model parameters "
   ]
  },
  {
   "cell_type": "code",
   "execution_count": 340,
   "metadata": {},
   "outputs": [],
   "source": [
    "# Define some inital models: \n",
    "    \n",
    "# K-Nearest Neighbor (KNN)\n",
    "    \n",
    "knMod = KNeighborsClassifier(n_neighbors=5, weights='uniform', algorithm='auto', leaf_size=30, p=2, metric='minkowski', \n",
    "                             metric_params=None)\n",
    "\n",
    "# Logistic Regression\n",
    "\n",
    "glmMod = LogisticRegression(penalty='l1', dual=False, tol=0.0001, C=1.0, fit_intercept=True,\n",
    "                            intercept_scaling=1, class_weight=None, \n",
    "                            random_state=None, solver='liblinear', max_iter=100,\n",
    "                            multi_class='ovr', verbose=2)\n",
    "\n",
    "\n",
    "# AdaBoost\n",
    "\n",
    "adaMod = AdaBoostClassifier(base_estimator=None, n_estimators=200, learning_rate=1.0)\n",
    "\n",
    "## GradientBoosting \n",
    "\n",
    "gbMod = GradientBoostingClassifier(loss='deviance', learning_rate=0.1, n_estimators=200, subsample=1.0,\n",
    "                                   min_samples_split=2, min_samples_leaf=1, min_weight_fraction_leaf=0.0, \n",
    "                                   max_depth=3,\n",
    "                                   init=None, random_state=None, max_features=None, verbose=0)\n",
    "\n",
    "#  RandomForest\n",
    "rfMod = RandomForestClassifier(n_estimators=10, criterion='gini', max_depth=None, min_samples_split=2,\n",
    "                               min_samples_leaf=1, min_weight_fraction_leaf=0.0, max_features='auto',\n",
    "                               max_leaf_nodes=None, bootstrap=True, oob_score=False, n_jobs=1, \n",
    "                               random_state=None, verbose=0)\n"
   ]
  },
  {
   "cell_type": "markdown",
   "metadata": {},
   "source": [
    "# Choosing a baseline model based on ROC_AUC metric "
   ]
  },
  {
   "cell_type": "code",
   "execution_count": 333,
   "metadata": {
    "scrolled": true
   },
   "outputs": [
    {
     "name": "stderr",
     "output_type": "stream",
     "text": [
      "[Parallel(n_jobs=1)]: Done   5 out of   5 | elapsed:  1.7min finished\n"
     ]
    },
    {
     "name": "stdout",
     "output_type": "stream",
     "text": [
      "[LibLinear][LibLinear][LibLinear][LibLinear][LibLinear]"
     ]
    },
    {
     "name": "stderr",
     "output_type": "stream",
     "text": [
      "[Parallel(n_jobs=1)]: Done   5 out of   5 | elapsed:  2.6min finished\n",
      "[Parallel(n_jobs=1)]: Done   5 out of   5 | elapsed:  4.8min finished\n",
      "[Parallel(n_jobs=1)]: Done   5 out of   5 | elapsed:  3.3min finished\n",
      "[Parallel(n_jobs=1)]: Done   5 out of   5 | elapsed:   14.7s finished\n"
     ]
    },
    {
     "data": {
      "text/plain": [
       "{'KNeighborsClassifier': [0.6671020983743199, 0.001380669763567787],\n",
       " 'LogisticRegression': [0.7040053007999045, 0.013730610984311654],\n",
       " 'AdaBoostClassifier': [0.8961642764472524, 0.008725235105720047],\n",
       " 'GradientBoostingClassifier': [0.9396699965128639, 0.007787840146550389],\n",
       " 'RandomForestClassifier': [0.8647080876124701, 0.004495064091924815]}"
      ]
     },
     "execution_count": 333,
     "metadata": {},
     "output_type": "execute_result"
    }
   ],
   "source": [
    "cvd = cvDictGen(functions=[knMod, glmMod, adaMod, gbMod, rfMod], X_train = X_train, y_train= y_train, scr='roc_auc')\n",
    "cvd"
   ]
  },
  {
   "cell_type": "markdown",
   "metadata": {},
   "source": [
    "# Comparing metrics:\n",
    "\n",
    "Let's create a dataframe called metrics where we can append all the metric values for our different models & later plot them and compare them side by side:\n",
    "\n",
    "# Basic metrics in our bankruptcy context\n",
    "\n",
    "- **Accuracy**: the proportion of the total number of predictions that are correct\n",
    "- **Precision**: the proportion of positive predictions that are actually correct\n",
    "- **Recall**: the proportion of positive observed values correctly predicted as such\n",
    "\n",
    "**In this application:**\n",
    "- **Accuracy**: Overall, how often the classifier is correct\n",
    "- **Precision: Proportion of bankruptcy predictions that are actually correct**  : When I predict bankrupt what is the propotion of times I am correct when I predict the positive class\n",
    "- **Recall**: Proportion of bankrupted companies that the classifier actually identifies\n",
    "\n",
    "\n",
    "\n",
    "# Interpertation of Metrics: \n",
    "\n",
    "I will use fishing & hotdog analogy to explain precision/recall.  \n",
    "\n",
    " ### High recall, low precision\n",
    " \n",
    " High recall, low precision. Our classifier casts a very wide net, catches a lot of fish, but also a lot of other things.\n",
    " \n",
    "Our classifier thinks a lot of things are “hot dogs”; legs on beaches, fries and whatnot. However it also thinks a lot of “hot dogs” are “hot dogs”. So from our set of images we got a lot of images classified as “hot dogs”, many of them was in the set of actual “hot dogs”, however a lot of them were also “not hot dogs”.\n",
    " \n",
    " ### Low recall, high precision\n",
    " \n",
    "Low recall, high precision. Our classifier casts a very small but highly specialised net, does not catch a lot of fish, but there is almost only fish in the net.\n",
    "\n",
    "Our classifier is very picky, and does not think many things are hot dogs. All the images it thinks are “hot dogs”, are really “hot dogs”. However it also misses a lot of actual “hot dogs”, because it is so very picky. We have low recall, but a very high precision\n",
    "\n",
    "### High recall, high precision\n",
    "\n",
    "Our fish net is wide and highly specialised. We catch a lot of fish (almost all of it) and we almost get only fish, nothing else.\n",
    "\n",
    "Our classifier is very good, it is very picky, but still it gets almost all of the images of “hot dogs” which are “hot dogs” correct. We are happy!\n",
    "\n",
    "## Bussiness Need: \n",
    "\n",
    "Depending on the bussiness need & the type of problem, we could optimize for recall or precision. Ideally we want both to be close to 1 but unfortunately that sometimes is impossible because of modelling or data limitations or other constraints.\n",
    "\n",
    "Say for example we were trying to screen people for a deadly disease. Then we would want to have a higher recall. From our fishing analogy above we would catch a lot of people that DO NOT have the disease but we will also catch ALL the people that HAVE the disease. \n",
    "In this case, being identified as a false positive is not as bad as being a false negative.\n",
    "\n",
    "For our dataset we will define an arbitrary problem\n",
    "\n",
    "# Bussiness Case:\n",
    "\n",
    "Assume the model that we are building will be used for investment purposes. Our clients would not want to invest or buy stocks from these companies that will go bankrupt in a few years. \n",
    " \n",
    "For this application they want to make sure that the our recall is high. Ideally we would want our precision to be high too.\n",
    "\n",
    "So we will look at precision, recall, & auc_metrics for our baseline models \n",
    "\n"
   ]
  },
  {
   "cell_type": "code",
   "execution_count": 341,
   "metadata": {},
   "outputs": [],
   "source": [
    "metrics = pd.DataFrame(index=['roc_auc','precision','recall'], \n",
    "                      columns=['GradienBoosting', 'Adaboost', 'RandomForest'])"
   ]
  },
  {
   "cell_type": "code",
   "execution_count": 342,
   "metadata": {},
   "outputs": [],
   "source": [
    "from sklearn.metrics import accuracy_score, confusion_matrix, precision_score, recall_score, roc_auc_score "
   ]
  },
  {
   "cell_type": "markdown",
   "metadata": {},
   "source": [
    "# Training our models"
   ]
  },
  {
   "cell_type": "markdown",
   "metadata": {},
   "source": [
    "## Gradient Boosting "
   ]
  },
  {
   "cell_type": "code",
   "execution_count": 343,
   "metadata": {},
   "outputs": [],
   "source": [
    "# Gradient Boosting:  \n",
    "gbMod.fit(X_train, y_train)\n",
    "y_pred_test1 = gbMod.predict(X_test)\n",
    "\n",
    "\n",
    "test_labels1 = gbMod.predict_proba(np.array(X_test))[:,1]\n",
    "\n",
    "metrics.loc['roc_auc','GradienBoosting'] = roc_auc_score(y_test,test_labels1 , average='macro', sample_weight=None)\n",
    "metrics.loc['precision','GradienBoosting'] = precision_score(y_pred=y_pred_test1, y_true=y_test)\n",
    "metrics.loc['recall','GradienBoosting'] = recall_score(y_pred=y_pred_test1, y_true=y_test)\n"
   ]
  },
  {
   "cell_type": "markdown",
   "metadata": {},
   "source": [
    "## Adaboost Classifier"
   ]
  },
  {
   "cell_type": "code",
   "execution_count": 344,
   "metadata": {},
   "outputs": [],
   "source": [
    "# Gradient Boosting:  X_test1 & y_test1 are mean replaced data\n",
    "adaMod.fit(X_train, y_train)\n",
    "y_pred_test2 = adaMod.predict(X_test)\n",
    "\n",
    "test_labels2 = adaMod.predict_proba(np.array(X_test))[:,1]\n",
    "\n",
    "metrics.loc['roc_auc','Adaboost'] = roc_auc_score(y_test,test_labels2 , average='macro', sample_weight=None)\n",
    "metrics.loc['precision','Adaboost'] = precision_score(y_pred=y_pred_test2, y_true=y_test)\n",
    "metrics.loc['recall','Adaboost'] = recall_score(y_pred=y_pred_test2, y_true=y_test)\n"
   ]
  },
  {
   "cell_type": "markdown",
   "metadata": {},
   "source": [
    "## RandomForest Classifer"
   ]
  },
  {
   "cell_type": "code",
   "execution_count": 345,
   "metadata": {},
   "outputs": [],
   "source": [
    "# RandomForestClassifier:  X_test1 & y_test1 are mean replaced data\n",
    "rfMod.fit(X_train, y_train)\n",
    "y_pred_test3 = rfMod.predict(X_test)\n",
    "\n",
    "\n",
    "test_labels3 = rfMod.predict_proba(np.array(X_test))[:,1]\n",
    "\n",
    "metrics.loc['roc_auc','RandomForest'] = roc_auc_score(y_test,test_labels3 , average='macro', sample_weight=None)\n",
    "metrics.loc['precision','RandomForest'] = precision_score(y_pred=y_pred_test3, y_true=y_test)\n",
    "metrics.loc['recall','RandomForest'] = recall_score(y_pred=y_pred_test3, y_true=y_test)"
   ]
  },
  {
   "cell_type": "markdown",
   "metadata": {},
   "source": [
    "# Comparing recall, precision, & ROC_AUC for our baseline models: \n",
    "\n",
    "As you can see our recall is really low. Meaning that we are classifying a lot of bankrupt companies as operating which is not good. Although our precision is high. Meaning that amongst the ones that we did classify, we classified correctly."
   ]
  },
  {
   "cell_type": "code",
   "execution_count": 346,
   "metadata": {},
   "outputs": [
    {
     "data": {
      "image/png": "[encoded data removed]",
      "text/plain": [
       "<Figure size 864x576 with 1 Axes>"
      ]
     },
     "metadata": {},
     "output_type": "display_data"
    }
   ],
   "source": [
    "fig, ax = plt.subplots(figsize=(12,8))\n",
    "metrics.plot(kind='barh', ax=ax)\n",
    "ax.grid();\n"
   ]
  },
  {
   "cell_type": "markdown",
   "metadata": {},
   "source": [
    "### Looking at our metrics dataframe: \n",
    "\n",
    "We can observe that our roc_auc score is high as well as our precision score but we suffer from recall score being below 0.5 which is bad"
   ]
  },
  {
   "cell_type": "code",
   "execution_count": 347,
   "metadata": {
    "scrolled": true
   },
   "outputs": [
    {
     "data": {
      "text/html": [
       "<div>\n",
       "<style scoped>\n",
       "    .dataframe tbody tr th:only-of-type {\n",
       "        vertical-align: middle;\n",
       "    }\n",
       "\n",
       "    .dataframe tbody tr th {\n",
       "        vertical-align: top;\n",
       "    }\n",
       "\n",
       "    .dataframe thead th {\n",
       "        text-align: right;\n",
       "    }\n",
       "</style>\n",
       "<table border=\"1\" class=\"dataframe\">\n",
       "  <thead>\n",
       "    <tr style=\"text-align: right;\">\n",
       "      <th></th>\n",
       "      <th>roc_auc</th>\n",
       "      <th>precision</th>\n",
       "      <th>recall</th>\n",
       "    </tr>\n",
       "  </thead>\n",
       "  <tbody>\n",
       "    <tr>\n",
       "      <th>GradienBoosting</th>\n",
       "      <td>0.935393</td>\n",
       "      <td>0.897959</td>\n",
       "      <td>0.421053</td>\n",
       "    </tr>\n",
       "    <tr>\n",
       "      <th>Adaboost</th>\n",
       "      <td>0.904306</td>\n",
       "      <td>0.564417</td>\n",
       "      <td>0.220096</td>\n",
       "    </tr>\n",
       "    <tr>\n",
       "      <th>RandomForest</th>\n",
       "      <td>0.858528</td>\n",
       "      <td>0.834437</td>\n",
       "      <td>0.301435</td>\n",
       "    </tr>\n",
       "  </tbody>\n",
       "</table>\n",
       "</div>"
      ],
      "text/plain": [
       "                  roc_auc precision    recall\n",
       "GradienBoosting  0.935393  0.897959  0.421053\n",
       "Adaboost         0.904306  0.564417  0.220096\n",
       "RandomForest     0.858528  0.834437  0.301435"
      ]
     },
     "execution_count": 347,
     "metadata": {},
     "output_type": "execute_result"
    }
   ],
   "source": [
    "metrics.T"
   ]
  },
  {
   "cell_type": "markdown",
   "metadata": {},
   "source": [
    "## Confusion Matrix Comparison"
   ]
  },
  {
   "cell_type": "code",
   "execution_count": 348,
   "metadata": {},
   "outputs": [],
   "source": [
    "def CMatrix(CM, labels=['operating','bankrupt']):\n",
    "    df = pd.DataFrame(data=CM, index=labels, columns=labels)\n",
    "    df.index.name='TRUE'\n",
    "    df.columns.name='PREDICTION'\n",
    "    df.loc['Total'] = df.sum()\n",
    "    df['Total'] = df.sum(axis=1)\n",
    "    return df\n",
    "\n",
    "CM1 = confusion_matrix(y_pred=y_pred_test1, y_true=y_test)\n",
    "CM2 = confusion_matrix(y_pred=y_pred_test2, y_true=y_test)\n",
    "CM3 = confusion_matrix(y_pred=y_pred_test3, y_true=y_test)"
   ]
  },
  {
   "cell_type": "code",
   "execution_count": 349,
   "metadata": {},
   "outputs": [
    {
     "data": {
      "text/html": [
       "<div>\n",
       "<style scoped>\n",
       "    .dataframe tbody tr th:only-of-type {\n",
       "        vertical-align: middle;\n",
       "    }\n",
       "\n",
       "    .dataframe tbody tr th {\n",
       "        vertical-align: top;\n",
       "    }\n",
       "\n",
       "    .dataframe thead th {\n",
       "        text-align: right;\n",
       "    }\n",
       "</style>\n",
       "<table border=\"1\" class=\"dataframe\">\n",
       "  <thead>\n",
       "    <tr style=\"text-align: right;\">\n",
       "      <th>PREDICTION</th>\n",
       "      <th>operating</th>\n",
       "      <th>bankrupt</th>\n",
       "      <th>Total</th>\n",
       "    </tr>\n",
       "    <tr>\n",
       "      <th>TRUE</th>\n",
       "      <th></th>\n",
       "      <th></th>\n",
       "      <th></th>\n",
       "    </tr>\n",
       "  </thead>\n",
       "  <tbody>\n",
       "    <tr>\n",
       "      <th>operating</th>\n",
       "      <td>8243</td>\n",
       "      <td>20</td>\n",
       "      <td>8263</td>\n",
       "    </tr>\n",
       "    <tr>\n",
       "      <th>bankrupt</th>\n",
       "      <td>242</td>\n",
       "      <td>176</td>\n",
       "      <td>418</td>\n",
       "    </tr>\n",
       "    <tr>\n",
       "      <th>Total</th>\n",
       "      <td>8485</td>\n",
       "      <td>196</td>\n",
       "      <td>8681</td>\n",
       "    </tr>\n",
       "  </tbody>\n",
       "</table>\n",
       "</div>"
      ],
      "text/plain": [
       "PREDICTION  operating  bankrupt  Total\n",
       "TRUE                                  \n",
       "operating        8243        20   8263\n",
       "bankrupt          242       176    418\n",
       "Total            8485       196   8681"
      ]
     },
     "execution_count": 349,
     "metadata": {},
     "output_type": "execute_result"
    }
   ],
   "source": [
    "CMatrix(CM1)"
   ]
  },
  {
   "cell_type": "code",
   "execution_count": 350,
   "metadata": {},
   "outputs": [
    {
     "data": {
      "text/html": [
       "<div>\n",
       "<style scoped>\n",
       "    .dataframe tbody tr th:only-of-type {\n",
       "        vertical-align: middle;\n",
       "    }\n",
       "\n",
       "    .dataframe tbody tr th {\n",
       "        vertical-align: top;\n",
       "    }\n",
       "\n",
       "    .dataframe thead th {\n",
       "        text-align: right;\n",
       "    }\n",
       "</style>\n",
       "<table border=\"1\" class=\"dataframe\">\n",
       "  <thead>\n",
       "    <tr style=\"text-align: right;\">\n",
       "      <th>PREDICTION</th>\n",
       "      <th>operating</th>\n",
       "      <th>bankrupt</th>\n",
       "      <th>Total</th>\n",
       "    </tr>\n",
       "    <tr>\n",
       "      <th>TRUE</th>\n",
       "      <th></th>\n",
       "      <th></th>\n",
       "      <th></th>\n",
       "    </tr>\n",
       "  </thead>\n",
       "  <tbody>\n",
       "    <tr>\n",
       "      <th>operating</th>\n",
       "      <td>8192</td>\n",
       "      <td>71</td>\n",
       "      <td>8263</td>\n",
       "    </tr>\n",
       "    <tr>\n",
       "      <th>bankrupt</th>\n",
       "      <td>326</td>\n",
       "      <td>92</td>\n",
       "      <td>418</td>\n",
       "    </tr>\n",
       "    <tr>\n",
       "      <th>Total</th>\n",
       "      <td>8518</td>\n",
       "      <td>163</td>\n",
       "      <td>8681</td>\n",
       "    </tr>\n",
       "  </tbody>\n",
       "</table>\n",
       "</div>"
      ],
      "text/plain": [
       "PREDICTION  operating  bankrupt  Total\n",
       "TRUE                                  \n",
       "operating        8192        71   8263\n",
       "bankrupt          326        92    418\n",
       "Total            8518       163   8681"
      ]
     },
     "execution_count": 350,
     "metadata": {},
     "output_type": "execute_result"
    }
   ],
   "source": [
    "CMatrix(CM2)"
   ]
  },
  {
   "cell_type": "code",
   "execution_count": 351,
   "metadata": {
    "scrolled": true
   },
   "outputs": [
    {
     "data": {
      "text/html": [
       "<div>\n",
       "<style scoped>\n",
       "    .dataframe tbody tr th:only-of-type {\n",
       "        vertical-align: middle;\n",
       "    }\n",
       "\n",
       "    .dataframe tbody tr th {\n",
       "        vertical-align: top;\n",
       "    }\n",
       "\n",
       "    .dataframe thead th {\n",
       "        text-align: right;\n",
       "    }\n",
       "</style>\n",
       "<table border=\"1\" class=\"dataframe\">\n",
       "  <thead>\n",
       "    <tr style=\"text-align: right;\">\n",
       "      <th>PREDICTION</th>\n",
       "      <th>operating</th>\n",
       "      <th>bankrupt</th>\n",
       "      <th>Total</th>\n",
       "    </tr>\n",
       "    <tr>\n",
       "      <th>TRUE</th>\n",
       "      <th></th>\n",
       "      <th></th>\n",
       "      <th></th>\n",
       "    </tr>\n",
       "  </thead>\n",
       "  <tbody>\n",
       "    <tr>\n",
       "      <th>operating</th>\n",
       "      <td>8238</td>\n",
       "      <td>25</td>\n",
       "      <td>8263</td>\n",
       "    </tr>\n",
       "    <tr>\n",
       "      <th>bankrupt</th>\n",
       "      <td>292</td>\n",
       "      <td>126</td>\n",
       "      <td>418</td>\n",
       "    </tr>\n",
       "    <tr>\n",
       "      <th>Total</th>\n",
       "      <td>8530</td>\n",
       "      <td>151</td>\n",
       "      <td>8681</td>\n",
       "    </tr>\n",
       "  </tbody>\n",
       "</table>\n",
       "</div>"
      ],
      "text/plain": [
       "PREDICTION  operating  bankrupt  Total\n",
       "TRUE                                  \n",
       "operating        8238        25   8263\n",
       "bankrupt          292       126    418\n",
       "Total            8530       151   8681"
      ]
     },
     "execution_count": 351,
     "metadata": {},
     "output_type": "execute_result"
    }
   ],
   "source": [
    "CMatrix(CM3)"
   ]
  },
  {
   "cell_type": "markdown",
   "metadata": {},
   "source": [
    "## Comparing confusion matrices: \n",
    "\n",
    "From the above 3 matrices we can see that we have a total of 418 bankrupt (positive class) cases in our testing set. \n",
    "A high number of bankrupt cases are being misclassified as operating which is bad. \n",
    "In essence our models are not doing great. "
   ]
  },
  {
   "cell_type": "markdown",
   "metadata": {},
   "source": [
    "# Selecting & improving our baseline model with hyperparameter tuning: \n",
    "\n",
    "For the purpose of this notebook we will take the model with highest roc_auc score and apply gridsearch to find best parameters. We will then print the confusion matrix & see if we have improved our false negatives"
   ]
  },
  {
   "cell_type": "code",
   "execution_count": 352,
   "metadata": {},
   "outputs": [],
   "source": [
    "from sklearn.model_selection import RandomizedSearchCV\n",
    "from scipy.stats import randint"
   ]
  },
  {
   "cell_type": "code",
   "execution_count": 353,
   "metadata": {},
   "outputs": [
    {
     "name": "stdout",
     "output_type": "stream",
     "text": [
      "Fitting 3 folds for each of 10 candidates, totalling 30 fits\n",
      "[CV] loss=exponential, max_depth=9, n_estimators=487 .................\n",
      "[CV] .. loss=exponential, max_depth=9, n_estimators=487, total= 5.7min\n",
      "[CV] loss=exponential, max_depth=9, n_estimators=487 .................\n"
     ]
    },
    {
     "name": "stderr",
     "output_type": "stream",
     "text": [
      "[Parallel(n_jobs=1)]: Done   1 out of   1 | elapsed:  5.7min remaining:    0.0s\n"
     ]
    },
    {
     "name": "stdout",
     "output_type": "stream",
     "text": [
      "[CV] .. loss=exponential, max_depth=9, n_estimators=487, total= 5.6min\n",
      "[CV] loss=exponential, max_depth=9, n_estimators=487 .................\n",
      "[CV] .. loss=exponential, max_depth=9, n_estimators=487, total= 5.7min\n",
      "[CV] loss=exponential, max_depth=3, n_estimators=276 .................\n",
      "[CV] .. loss=exponential, max_depth=3, n_estimators=276, total=  43.3s\n",
      "[CV] loss=exponential, max_depth=3, n_estimators=276 .................\n",
      "[CV] .. loss=exponential, max_depth=3, n_estimators=276, total=  43.5s\n",
      "[CV] loss=exponential, max_depth=3, n_estimators=276 .................\n",
      "[CV] .. loss=exponential, max_depth=3, n_estimators=276, total=  44.4s\n",
      "[CV] loss=exponential, max_depth=5, n_estimators=365 .................\n",
      "[CV] .. loss=exponential, max_depth=5, n_estimators=365, total= 1.7min\n",
      "[CV] loss=exponential, max_depth=5, n_estimators=365 .................\n",
      "[CV] .. loss=exponential, max_depth=5, n_estimators=365, total= 1.7min\n",
      "[CV] loss=exponential, max_depth=5, n_estimators=365 .................\n",
      "[CV] .. loss=exponential, max_depth=5, n_estimators=365, total= 1.8min\n",
      "[CV] loss=deviance, max_depth=3, n_estimators=322 ....................\n",
      "[CV] ..... loss=deviance, max_depth=3, n_estimators=322, total=  52.8s\n",
      "[CV] loss=deviance, max_depth=3, n_estimators=322 ....................\n",
      "[CV] ..... loss=deviance, max_depth=3, n_estimators=322, total=  52.6s\n",
      "[CV] loss=deviance, max_depth=3, n_estimators=322 ....................\n",
      "[CV] ..... loss=deviance, max_depth=3, n_estimators=322, total=  53.5s\n",
      "[CV] loss=exponential, max_depth=7, n_estimators=138 .................\n",
      "[CV] .. loss=exponential, max_depth=7, n_estimators=138, total= 1.2min\n",
      "[CV] loss=exponential, max_depth=7, n_estimators=138 .................\n",
      "[CV] .. loss=exponential, max_depth=7, n_estimators=138, total= 1.1min\n",
      "[CV] loss=exponential, max_depth=7, n_estimators=138 .................\n",
      "[CV] .. loss=exponential, max_depth=7, n_estimators=138, total= 1.1min\n",
      "[CV] loss=exponential, max_depth=2, n_estimators=487 .................\n",
      "[CV] .. loss=exponential, max_depth=2, n_estimators=487, total=  48.3s\n",
      "[CV] loss=exponential, max_depth=2, n_estimators=487 .................\n",
      "[CV] .. loss=exponential, max_depth=2, n_estimators=487, total=  49.5s\n",
      "[CV] loss=exponential, max_depth=2, n_estimators=487 .................\n",
      "[CV] .. loss=exponential, max_depth=2, n_estimators=487, total=  48.6s\n",
      "[CV] loss=deviance, max_depth=2, n_estimators=454 ....................\n",
      "[CV] ..... loss=deviance, max_depth=2, n_estimators=454, total=  45.7s\n",
      "[CV] loss=deviance, max_depth=2, n_estimators=454 ....................\n",
      "[CV] ..... loss=deviance, max_depth=2, n_estimators=454, total=  45.9s\n",
      "[CV] loss=deviance, max_depth=2, n_estimators=454 ....................\n",
      "[CV] ..... loss=deviance, max_depth=2, n_estimators=454, total=  45.7s\n",
      "[CV] loss=exponential, max_depth=8, n_estimators=449 .................\n",
      "[CV] .. loss=exponential, max_depth=8, n_estimators=449, total= 4.4min\n",
      "[CV] loss=exponential, max_depth=8, n_estimators=449 .................\n",
      "[CV] .. loss=exponential, max_depth=8, n_estimators=449, total= 4.3min\n",
      "[CV] loss=exponential, max_depth=8, n_estimators=449 .................\n",
      "[CV] .. loss=exponential, max_depth=8, n_estimators=449, total= 4.4min\n",
      "[CV] loss=exponential, max_depth=1, n_estimators=341 .................\n",
      "[CV] .. loss=exponential, max_depth=1, n_estimators=341, total=  17.2s\n",
      "[CV] loss=exponential, max_depth=1, n_estimators=341 .................\n",
      "[CV] .. loss=exponential, max_depth=1, n_estimators=341, total=  16.7s\n",
      "[CV] loss=exponential, max_depth=1, n_estimators=341 .................\n",
      "[CV] .. loss=exponential, max_depth=1, n_estimators=341, total=  17.0s\n",
      "[CV] loss=exponential, max_depth=3, n_estimators=136 .................\n",
      "[CV] .. loss=exponential, max_depth=3, n_estimators=136, total=  22.3s\n",
      "[CV] loss=exponential, max_depth=3, n_estimators=136 .................\n",
      "[CV] .. loss=exponential, max_depth=3, n_estimators=136, total=  22.9s\n",
      "[CV] loss=exponential, max_depth=3, n_estimators=136 .................\n",
      "[CV] .. loss=exponential, max_depth=3, n_estimators=136, total=  21.3s\n"
     ]
    },
    {
     "name": "stderr",
     "output_type": "stream",
     "text": [
      "[Parallel(n_jobs=1)]: Done  30 out of  30 | elapsed: 50.3min finished\n"
     ]
    },
    {
     "data": {
      "text/plain": [
       "({'loss': 'exponential', 'max_depth': 8, 'n_estimators': 449},\n",
       " 0.9569273986473225)"
      ]
     },
     "execution_count": 353,
     "metadata": {},
     "output_type": "execute_result"
    }
   ],
   "source": [
    "gbHyperParams = {'loss' : ['deviance', 'exponential'],\n",
    "                 'n_estimators': randint(10, 500),\n",
    "                 'max_depth': randint(1,10)}\n",
    "\n",
    "\n",
    "gridSearchGB = RandomizedSearchCV(estimator=gbMod, param_distributions=gbHyperParams, n_iter=10,\n",
    "                                   scoring='roc_auc', fit_params=None, cv=None, verbose=2).fit(X_train, y_train)\n",
    "\n",
    "\n"
   ]
  },
  {
   "cell_type": "code",
   "execution_count": 354,
   "metadata": {},
   "outputs": [
    {
     "data": {
      "text/plain": [
       "({'loss': 'exponential', 'max_depth': 8, 'n_estimators': 449},\n",
       " 0.9569273986473225)"
      ]
     },
     "execution_count": 354,
     "metadata": {},
     "output_type": "execute_result"
    }
   ],
   "source": [
    "gridSearchGB.best_params_, gridSearchGB.best_score_"
   ]
  },
  {
   "cell_type": "code",
   "execution_count": 361,
   "metadata": {},
   "outputs": [],
   "source": [
    "gbMod_best = GradientBoostingClassifier(loss='exponential', learning_rate=0.1, n_estimators=449, subsample=1.0,\n",
    "                                   min_samples_split=2, min_samples_leaf=1, min_weight_fraction_leaf=0.0, \n",
    "                                   max_depth=8,\n",
    "                                   init=None, random_state=None, max_features=None, verbose=0)"
   ]
  },
  {
   "cell_type": "markdown",
   "metadata": {},
   "source": [
    "__The is a significant improvement from our initial ROC_AUC score: 0.936 to 0.957__ "
   ]
  },
  {
   "cell_type": "code",
   "execution_count": 363,
   "metadata": {},
   "outputs": [],
   "source": [
    "bestGbModFitted = gridSearchGB.best_estimator_.fit(X_train, y_train)"
   ]
  },
  {
   "cell_type": "code",
   "execution_count": 364,
   "metadata": {},
   "outputs": [],
   "source": [
    "test_labels_best=bestGbModFitted.predict_proba(np.array(X_test))[:,1]"
   ]
  },
  {
   "cell_type": "code",
   "execution_count": 365,
   "metadata": {},
   "outputs": [],
   "source": [
    "y_pred_best = rfMod.predict(X_test)"
   ]
  },
  {
   "cell_type": "code",
   "execution_count": 367,
   "metadata": {},
   "outputs": [],
   "source": [
    "CM_best = confusion_matrix(y_pred=y_pred_best, y_true=y_test)"
   ]
  },
  {
   "cell_type": "code",
   "execution_count": 369,
   "metadata": {},
   "outputs": [
    {
     "data": {
      "text/html": [
       "<div>\n",
       "<style scoped>\n",
       "    .dataframe tbody tr th:only-of-type {\n",
       "        vertical-align: middle;\n",
       "    }\n",
       "\n",
       "    .dataframe tbody tr th {\n",
       "        vertical-align: top;\n",
       "    }\n",
       "\n",
       "    .dataframe thead th {\n",
       "        text-align: right;\n",
       "    }\n",
       "</style>\n",
       "<table border=\"1\" class=\"dataframe\">\n",
       "  <thead>\n",
       "    <tr style=\"text-align: right;\">\n",
       "      <th>PREDICTION</th>\n",
       "      <th>operating</th>\n",
       "      <th>bankrupt</th>\n",
       "      <th>Total</th>\n",
       "    </tr>\n",
       "    <tr>\n",
       "      <th>TRUE</th>\n",
       "      <th></th>\n",
       "      <th></th>\n",
       "      <th></th>\n",
       "    </tr>\n",
       "  </thead>\n",
       "  <tbody>\n",
       "    <tr>\n",
       "      <th>operating</th>\n",
       "      <td>8238</td>\n",
       "      <td>25</td>\n",
       "      <td>8263</td>\n",
       "    </tr>\n",
       "    <tr>\n",
       "      <th>bankrupt</th>\n",
       "      <td>292</td>\n",
       "      <td>126</td>\n",
       "      <td>418</td>\n",
       "    </tr>\n",
       "    <tr>\n",
       "      <th>Total</th>\n",
       "      <td>8530</td>\n",
       "      <td>151</td>\n",
       "      <td>8681</td>\n",
       "    </tr>\n",
       "  </tbody>\n",
       "</table>\n",
       "</div>"
      ],
      "text/plain": [
       "PREDICTION  operating  bankrupt  Total\n",
       "TRUE                                  \n",
       "operating        8238        25   8263\n",
       "bankrupt          292       126    418\n",
       "Total            8530       151   8681"
      ]
     },
     "execution_count": 369,
     "metadata": {},
     "output_type": "execute_result"
    }
   ],
   "source": [
    "CMatrix(CM_best)"
   ]
  },
  {
   "cell_type": "code",
   "execution_count": 370,
   "metadata": {},
   "outputs": [],
   "source": [
    "metrics.loc['roc_auc','GradienBoosting_Hypertuned'] = roc_auc_score(y_test,test_labels_best , average='macro', sample_weight=None)\n",
    "metrics.loc['precision','GradienBoosting_Hypertuned'] = precision_score(y_pred=y_pred_best, y_true=y_test)\n",
    "metrics.loc['recall','GradienBoosting_Hypertuned'] = recall_score(y_pred=y_pred_best, y_true=y_test)"
   ]
  },
  {
   "cell_type": "code",
   "execution_count": 375,
   "metadata": {},
   "outputs": [
    {
     "name": "stdout",
     "output_type": "stream",
     "text": [
      "                             roc_auc precision    recall\n",
      "GradienBoosting             0.935393  0.897959  0.421053\n",
      "Adaboost                    0.904306  0.564417  0.220096\n",
      "RandomForest                0.858528  0.834437  0.301435\n",
      "GradienBoosting_Hypertuned  0.964834  0.834437  0.301435\n"
     ]
    },
    {
     "data": {
      "image/png": "[encoded data removed]",
      "text/plain": [
       "<Figure size 864x576 with 1 Axes>"
      ]
     },
     "metadata": {},
     "output_type": "display_data"
    }
   ],
   "source": [
    "print(metrics.T)\n",
    "fig, ax = plt.subplots(figsize=(12,8))\n",
    "metrics.plot(kind='barh', ax=ax)\n",
    "ax.grid();\n"
   ]
  },
  {
   "cell_type": "markdown",
   "metadata": {},
   "source": [
    "####  We can see from our above hypertuned GradientBoosting model that is no improvement in recall whatsoever\n",
    "\n",
    "The classification report is as follows:"
   ]
  },
  {
   "cell_type": "code",
   "execution_count": 571,
   "metadata": {},
   "outputs": [
    {
     "name": "stdout",
     "output_type": "stream",
     "text": [
      "             precision    recall  f1-score   support\n",
      "\n",
      "          0       0.97      1.00      0.98      8263\n",
      "          1       0.83      0.30      0.44       418\n",
      "\n",
      "avg / total       0.96      0.96      0.96      8681\n",
      "\n"
     ]
    }
   ],
   "source": [
    "from sklearn.metrics import classification_report\n",
    "print(classification_report(y_test, y_pred_best))"
   ]
  },
  {
   "cell_type": "markdown",
   "metadata": {},
   "source": [
    "# Better approach: Using XGBoost\n",
    "\n",
    "We will try to use XGBClassifier & compare results with our initial baseline models. We will use the fact that there is class imbalance so we will use __scale_pos_weight__ parameter to give higher weightages to our minority class"
   ]
  },
  {
   "cell_type": "code",
   "execution_count": 508,
   "metadata": {},
   "outputs": [],
   "source": [
    "from xgboost.sklearn import XGBClassifier"
   ]
  },
  {
   "cell_type": "code",
   "execution_count": 601,
   "metadata": {},
   "outputs": [],
   "source": [
    "xgb1 = XGBClassifier(\n",
    " learning_rate =0.1,\n",
    " n_estimators=1000,\n",
    " max_depth=5,\n",
    " min_child_weight=1,\n",
    " gamma=0,\n",
    " subsample=0.8,\n",
    " colsample_bytree=0.8,\n",
    " objective= 'binary:logistic',\n",
    " nthread=4,\n",
    " scale_pos_weight=35,\n",
    " seed=27)"
   ]
  },
  {
   "cell_type": "markdown",
   "metadata": {},
   "source": [
    "__I tried different values for scale_pos_weight but 35 seems to give me a good combination of precision, recall, & f1 score__"
   ]
  },
  {
   "cell_type": "code",
   "execution_count": 602,
   "metadata": {},
   "outputs": [
    {
     "data": {
      "text/plain": [
       "XGBClassifier(base_score=0.5, booster='gbtree', colsample_bylevel=1,\n",
       "       colsample_bytree=0.8, gamma=0, learning_rate=0.1, max_delta_step=0,\n",
       "       max_depth=5, min_child_weight=1, missing=None, n_estimators=1000,\n",
       "       n_jobs=1, nthread=4, objective='binary:logistic', random_state=0,\n",
       "       reg_alpha=0, reg_lambda=1, scale_pos_weight=35, seed=27,\n",
       "       silent=True, subsample=0.8)"
      ]
     },
     "execution_count": 602,
     "metadata": {},
     "output_type": "execute_result"
    }
   ],
   "source": [
    "xgb1.fit(X_train,y_train)"
   ]
  },
  {
   "cell_type": "code",
   "execution_count": 603,
   "metadata": {
    "scrolled": true
   },
   "outputs": [],
   "source": [
    "y_pred_xgb = xgb1.predict(X_test)\n",
    "predictions = [round(value) for value in y_pred_xgb]\n"
   ]
  },
  {
   "cell_type": "code",
   "execution_count": 604,
   "metadata": {},
   "outputs": [
    {
     "data": {
      "text/html": [
       "<div>\n",
       "<style scoped>\n",
       "    .dataframe tbody tr th:only-of-type {\n",
       "        vertical-align: middle;\n",
       "    }\n",
       "\n",
       "    .dataframe tbody tr th {\n",
       "        vertical-align: top;\n",
       "    }\n",
       "\n",
       "    .dataframe thead th {\n",
       "        text-align: right;\n",
       "    }\n",
       "</style>\n",
       "<table border=\"1\" class=\"dataframe\">\n",
       "  <thead>\n",
       "    <tr style=\"text-align: right;\">\n",
       "      <th>PREDICTION</th>\n",
       "      <th>operating</th>\n",
       "      <th>bankrupt</th>\n",
       "      <th>Total</th>\n",
       "    </tr>\n",
       "    <tr>\n",
       "      <th>TRUE</th>\n",
       "      <th></th>\n",
       "      <th></th>\n",
       "      <th></th>\n",
       "    </tr>\n",
       "  </thead>\n",
       "  <tbody>\n",
       "    <tr>\n",
       "      <th>operating</th>\n",
       "      <td>8215</td>\n",
       "      <td>48</td>\n",
       "      <td>8263</td>\n",
       "    </tr>\n",
       "    <tr>\n",
       "      <th>bankrupt</th>\n",
       "      <td>122</td>\n",
       "      <td>296</td>\n",
       "      <td>418</td>\n",
       "    </tr>\n",
       "    <tr>\n",
       "      <th>Total</th>\n",
       "      <td>8337</td>\n",
       "      <td>344</td>\n",
       "      <td>8681</td>\n",
       "    </tr>\n",
       "  </tbody>\n",
       "</table>\n",
       "</div>"
      ],
      "text/plain": [
       "PREDICTION  operating  bankrupt  Total\n",
       "TRUE                                  \n",
       "operating        8215        48   8263\n",
       "bankrupt          122       296    418\n",
       "Total            8337       344   8681"
      ]
     },
     "execution_count": 604,
     "metadata": {},
     "output_type": "execute_result"
    }
   ],
   "source": [
    "CMatrix(confusion_matrix(y_pred = predictions, y_true=y_test))"
   ]
  },
  {
   "cell_type": "code",
   "execution_count": 605,
   "metadata": {},
   "outputs": [
    {
     "name": "stdout",
     "output_type": "stream",
     "text": [
      "             precision    recall  f1-score   support\n",
      "\n",
      "          0       0.99      0.99      0.99      8263\n",
      "          1       0.86      0.71      0.78       418\n",
      "\n",
      "avg / total       0.98      0.98      0.98      8681\n",
      "\n"
     ]
    }
   ],
   "source": [
    "print(classification_report(y_test,predictions))"
   ]
  },
  {
   "cell_type": "code",
   "execution_count": 606,
   "metadata": {},
   "outputs": [
    {
     "data": {
      "text/plain": [
       "0.8511624715469376"
      ]
     },
     "execution_count": 606,
     "metadata": {},
     "output_type": "execute_result"
    }
   ],
   "source": [
    "roc_auc_score(y_test,predictions , average='macro', sample_weight=None)"
   ]
  },
  {
   "cell_type": "markdown",
   "metadata": {},
   "source": [
    "Here we can see a significant improvement in our recall and our precision is pretty decent too. Let's take it a step further and try to apply hyper parameter tuning"
   ]
  },
  {
   "cell_type": "markdown",
   "metadata": {},
   "source": [
    "# Best approach: Using hyperparameter tuning for XGBoost using gridsearch"
   ]
  },
  {
   "cell_type": "code",
   "execution_count": 613,
   "metadata": {},
   "outputs": [
    {
     "data": {
      "text/plain": [
       "{'learning_rate': array([0.05, 0.1 , 0.15, 0.2 , 0.25, 0.3 , 0.35, 0.4 , 0.45, 0.5 , 0.55,\n",
       "        0.6 , 0.65, 0.7 , 0.75, 0.8 , 0.85, 0.9 , 0.95, 1.  ]),\n",
       " 'n_estimators': array([ 200,  400,  600,  800, 1000, 1200, 1400]),\n",
       " 'min_child_weight': [1, 5, 10],\n",
       " 'gamma': [0.5, 1, 1.5, 2, 5],\n",
       " 'subsample': [0.6, 0.8, 1.0],\n",
       " 'colsample_bytree': [0.6, 0.8, 1.0],\n",
       " 'max_depth': [3, 4, 5]}"
      ]
     },
     "execution_count": 613,
     "metadata": {},
     "output_type": "execute_result"
    }
   ],
   "source": [
    "gbm_param_grid = {\n",
    "        'learning_rate' : np.arange(0.05,1.05,0.05),\n",
    "        'n_estimators'  : np.arange(200,1600,200),\n",
    "        'min_child_weight': [1, 5, 10],\n",
    "        'gamma': [0.5, 1, 1.5, 2, 5],\n",
    "        'subsample': [0.6, 0.8, 1.0],\n",
    "        'colsample_bytree': [0.6, 0.8, 1.0],\n",
    "        'max_depth': [3, 4, 5]\n",
    "        }\n",
    "\n",
    "gbm_param_grid"
   ]
  },
  {
   "cell_type": "code",
   "execution_count": 615,
   "metadata": {},
   "outputs": [],
   "source": [
    "xgb2 = XGBClassifier(\n",
    " max_depth=5,\n",
    " objective= 'binary:logistic',\n",
    " nthread=4,\n",
    " scale_pos_weight=35,\n",
    " seed=42)"
   ]
  },
  {
   "cell_type": "code",
   "execution_count": 619,
   "metadata": {},
   "outputs": [],
   "source": [
    "random_search = RandomizedSearchCV(estimator=xgb2, param_distributions=gbm_param_grid, n_iter=25, scoring='recall',cv=4,verbose=1)"
   ]
  },
  {
   "cell_type": "code",
   "execution_count": 620,
   "metadata": {},
   "outputs": [
    {
     "name": "stdout",
     "output_type": "stream",
     "text": [
      "Fitting 4 folds for each of 25 candidates, totalling 100 fits\n"
     ]
    },
    {
     "name": "stderr",
     "output_type": "stream",
     "text": [
      "[Parallel(n_jobs=1)]: Done 100 out of 100 | elapsed: 55.6min finished\n"
     ]
    },
    {
     "data": {
      "text/plain": [
       "RandomizedSearchCV(cv=4, error_score='raise',\n",
       "          estimator=XGBClassifier(base_score=0.5, booster='gbtree', colsample_bylevel=1,\n",
       "       colsample_bytree=1, gamma=0, learning_rate=0.1, max_delta_step=0,\n",
       "       max_depth=5, min_child_weight=1, missing=None, n_estimators=100,\n",
       "       n_jobs=1, nthread=4, objective='binary:logistic', random_state=0,\n",
       "       reg_alpha=0, reg_lambda=1, scale_pos_weight=35, seed=42,\n",
       "       silent=True, subsample=1),\n",
       "          fit_params=None, iid=True, n_iter=25, n_jobs=1,\n",
       "          param_distributions={'learning_rate': array([0.05, 0.1 , 0.15, 0.2 , 0.25, 0.3 , 0.35, 0.4 , 0.45, 0.5 , 0.55,\n",
       "       0.6 , 0.65, 0.7 , 0.75, 0.8 , 0.85, 0.9 , 0.95, 1.  ]), 'n_estimators': array([ 200,  400,  600,  800, 1000, 1200, 1400]), 'min_child_weight': [1, 5, 10], 'gamma': [0.5, 1, 1.5, 2, 5], 'subsample': [0.6, 0.8, 1.0], 'colsample_bytree': [0.6, 0.8, 1.0], 'max_depth': [3, 4, 5]},\n",
       "          pre_dispatch='2*n_jobs', random_state=None, refit=True,\n",
       "          return_train_score='warn', scoring='recall', verbose=1)"
      ]
     },
     "execution_count": 620,
     "metadata": {},
     "output_type": "execute_result"
    }
   ],
   "source": [
    "random_search.fit(X_train,y_train)"
   ]
  },
  {
   "cell_type": "code",
   "execution_count": 627,
   "metadata": {},
   "outputs": [
    {
     "data": {
      "text/plain": [
       "{'subsample': 0.6,\n",
       " 'n_estimators': 1400,\n",
       " 'min_child_weight': 10,\n",
       " 'max_depth': 3,\n",
       " 'learning_rate': 0.05,\n",
       " 'gamma': 1.5,\n",
       " 'colsample_bytree': 1.0}"
      ]
     },
     "execution_count": 627,
     "metadata": {},
     "output_type": "execute_result"
    }
   ],
   "source": [
    "random_search.best_params_"
   ]
  },
  {
   "cell_type": "code",
   "execution_count": 622,
   "metadata": {},
   "outputs": [],
   "source": [
    "bestxbg = random_search.best_estimator_.fit(X_train, y_train) # fit the model with best parameters"
   ]
  },
  {
   "cell_type": "code",
   "execution_count": 623,
   "metadata": {},
   "outputs": [],
   "source": [
    "y_pred_xgb_best = bestxbg.predict(X_test) # predict the labels\n",
    "predictions = [round(value) for value in y_pred_xgb_best]"
   ]
  },
  {
   "cell_type": "code",
   "execution_count": 624,
   "metadata": {},
   "outputs": [
    {
     "data": {
      "text/html": [
       "<div>\n",
       "<style scoped>\n",
       "    .dataframe tbody tr th:only-of-type {\n",
       "        vertical-align: middle;\n",
       "    }\n",
       "\n",
       "    .dataframe tbody tr th {\n",
       "        vertical-align: top;\n",
       "    }\n",
       "\n",
       "    .dataframe thead th {\n",
       "        text-align: right;\n",
       "    }\n",
       "</style>\n",
       "<table border=\"1\" class=\"dataframe\">\n",
       "  <thead>\n",
       "    <tr style=\"text-align: right;\">\n",
       "      <th>PREDICTION</th>\n",
       "      <th>operating</th>\n",
       "      <th>bankrupt</th>\n",
       "      <th>Total</th>\n",
       "    </tr>\n",
       "    <tr>\n",
       "      <th>TRUE</th>\n",
       "      <th></th>\n",
       "      <th></th>\n",
       "      <th></th>\n",
       "    </tr>\n",
       "  </thead>\n",
       "  <tbody>\n",
       "    <tr>\n",
       "      <th>operating</th>\n",
       "      <td>7868</td>\n",
       "      <td>395</td>\n",
       "      <td>8263</td>\n",
       "    </tr>\n",
       "    <tr>\n",
       "      <th>bankrupt</th>\n",
       "      <td>62</td>\n",
       "      <td>356</td>\n",
       "      <td>418</td>\n",
       "    </tr>\n",
       "    <tr>\n",
       "      <th>Total</th>\n",
       "      <td>7930</td>\n",
       "      <td>751</td>\n",
       "      <td>8681</td>\n",
       "    </tr>\n",
       "  </tbody>\n",
       "</table>\n",
       "</div>"
      ],
      "text/plain": [
       "PREDICTION  operating  bankrupt  Total\n",
       "TRUE                                  \n",
       "operating        7868       395   8263\n",
       "bankrupt           62       356    418\n",
       "Total            7930       751   8681"
      ]
     },
     "execution_count": 624,
     "metadata": {},
     "output_type": "execute_result"
    }
   ],
   "source": [
    "CMatrix(confusion_matrix(y_pred = predictions, y_true=y_test)) "
   ]
  },
  {
   "cell_type": "code",
   "execution_count": 625,
   "metadata": {},
   "outputs": [
    {
     "name": "stdout",
     "output_type": "stream",
     "text": [
      "             precision    recall  f1-score   support\n",
      "\n",
      "          0       0.99      0.95      0.97      8263\n",
      "          1       0.47      0.85      0.61       418\n",
      "\n",
      "avg / total       0.97      0.95      0.95      8681\n",
      "\n"
     ]
    }
   ],
   "source": [
    "print(classification_report(y_test,predictions))"
   ]
  },
  {
   "cell_type": "code",
   "execution_count": 628,
   "metadata": {},
   "outputs": [
    {
     "data": {
      "text/plain": [
       "0.9019355899678453"
      ]
     },
     "execution_count": 628,
     "metadata": {},
     "output_type": "execute_result"
    }
   ],
   "source": [
    "roc_auc_score(y_test,predictions , average='macro', sample_weight=None)"
   ]
  },
  {
   "cell_type": "markdown",
   "metadata": {},
   "source": [
    "# Initial Thoughts: \n",
    "\n",
    "So after applying weightages to our minority class & using hypterparameter tuning we can see our recall score has gone significantly up but at the expense of precision. I could have optimized for f1 score in the gridsearch but let that be for another day. Our roc_score is also 0.90 which is pretty good. \n",
    "\n",
    "Depending on our business need we could further optimize different parameters to get different outputs for metrics. It all depends on the bussiness need\n",
    "\n",
    "All in all I am happy with this result! \n",
    "\n",
    "\n"
   ]
  },
  {
   "cell_type": "code",
   "execution_count": 667,
   "metadata": {},
   "outputs": [],
   "source": [
    "features_label = X.columns\n",
    "feature_list = dict(zip(features_label, bestxbg.feature_importances_*100))\n",
    "#feature_list = list(zip(features_label, bestxbg.feature_importances_))\n"
   ]
  },
  {
   "cell_type": "code",
   "execution_count": 664,
   "metadata": {},
   "outputs": [],
   "source": [
    "# Use the __getitem__ method as the key function\n",
    "top_ten_features = sorted(feature_list, key=feature_list.__getitem__, reverse= True)[:11]"
   ]
  },
  {
   "cell_type": "code",
   "execution_count": 666,
   "metadata": {},
   "outputs": [
    {
     "data": {
      "text/plain": [
       "['attr27',\n",
       " 'attr46',\n",
       " 'attr5',\n",
       " 'attr34',\n",
       " 'attr58',\n",
       " 'attr24',\n",
       " 'attr29',\n",
       " 'attr40',\n",
       " 'attr21',\n",
       " 'attr36',\n",
       " 'attr56']"
      ]
     },
     "execution_count": 666,
     "metadata": {},
     "output_type": "execute_result"
    }
   ],
   "source": [
    "top_ten_features"
   ]
  },
  {
   "cell_type": "markdown",
   "metadata": {},
   "source": [
    "# Top ten most important features for our XGBoost Model: \n",
    "\n",
    "X27 profit on operating activities / financial expenses \n",
    "\n",
    "X46 (current assets - inventory) / short-term liabilities \n",
    "\n",
    "X5 [(cash + short-term securities + receivables - short-term liabilities) / (operating expenses - depreciation)] * 365\n",
    "\n",
    "X34 operating expenses / total liabilities\n",
    "\n",
    "X58 total costs /total sales \n",
    "\n",
    "X24 gross profit (in 3 years) / total assets \n",
    "\n",
    "X29 logarithm of total assets \n",
    "\n",
    "X40 (current assets - inventory - receivables) / short-term liabilities \n",
    "\n",
    "X21 sales (n) / sales (n-1) \n",
    "\n",
    "X36 total sales / total assets \n",
    "\n",
    "X56 (sales - cost of products sold) / sales \n",
    "\n",
    "\n",
    "Analysts trying to study bankrupty could possibly look at these metrics in more detail\n",
    "\n",
    "\n",
    "\n",
    "# Conclusion: \n",
    "\n",
    "There are a lot of things I learned from this project: \n",
    "\n",
    "1. Class imbalance is something that needs to be addressed with startegies like choosing the correct metric, over-sampling, under-sampling etc.\n",
    "\n",
    "\n",
    "2. ROC_AUC score might not be the best metric for a classification in some cases depending on the application we need to optimize for precision or recall based on our bussiness case. \n",
    "\n",
    "\n",
    "3. XGBoost is the best <3 lol! \n",
    "\n",
    "\n",
    "# End of project! \n",
    "\n",
    "I hope you enjoyed my analysis! \n",
    "\n",
    "Thank you for reading"
   ]
  },
  {
   "cell_type": "code",
   "execution_count": null,
   "metadata": {},
   "outputs": [],
   "source": []
  }
 ],
 "metadata": {
  "kernelspec": {
   "display_name": "Python 3",
   "language": "python",
   "name": "python3"
  },
  "language_info": {
   "codemirror_mode": {
    "name": "ipython",
    "version": 3
   },
   "file_extension": ".py",
   "mimetype": "text/x-python",
   "name": "python",
   "nbconvert_exporter": "python",
   "pygments_lexer": "ipython3",
   "version": "3.6.6"
  }
 },
 "nbformat": 4,
 "nbformat_minor": 2
}
